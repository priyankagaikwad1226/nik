{
 "cells": [
  {
   "cell_type": "code",
   "execution_count": 23,
   "id": "2315838b-ad11-4820-a0f8-e61306dafec4",
   "metadata": {},
   "outputs": [],
   "source": [
    "#positional arguments\n",
    "\n",
    "def stud_info(id,name,std,school):\n",
    "    print(f'stud_id={id}\\n name={name}\\n std={std}\\n school={school}\\n')"
   ]
  },
  {
   "cell_type": "code",
   "execution_count": 25,
   "id": "20b3db22-28d6-4ba6-a40b-b4a601d920c5",
   "metadata": {},
   "outputs": [
    {
     "name": "stdout",
     "output_type": "stream",
     "text": [
      "stud_id=1\n",
      " name=devesh\n",
      " std=1A\n",
      " school=GJS\n",
      "\n"
     ]
    }
   ],
   "source": [
    "stud_info(1,'devesh','1A','GJS')"
   ]
  },
  {
   "cell_type": "code",
   "execution_count": 27,
   "id": "f4c58865-f554-4ee1-a43f-b9468a281609",
   "metadata": {},
   "outputs": [],
   "source": [
    "#default arguments\n",
    "def stud_info(id,name,std,school='GJS'):\n",
    "    print(f'stud_id={id}\\n name={name}\\n std={std}\\n school={school}\\n')"
   ]
  },
  {
   "cell_type": "code",
   "execution_count": 33,
   "id": "d7d2cb8f-cba2-4869-8b31-8c348011b284",
   "metadata": {},
   "outputs": [
    {
     "name": "stdout",
     "output_type": "stream",
     "text": [
      "stud_id=2\n",
      " name=Darsh\n",
      " std=1A\n",
      " school=GJS\n",
      "\n"
     ]
    }
   ],
   "source": [
    "stud_info(2,'Darsh','1A')"
   ]
  },
  {
   "cell_type": "code",
   "execution_count": 39,
   "id": "65688833-b93b-4076-ba33-f479ffb2f1fb",
   "metadata": {},
   "outputs": [],
   "source": [
    "#variable length argument\n",
    "def stud_info(*args):\n",
    "    print(args)"
   ]
  },
  {
   "cell_type": "code",
   "execution_count": 41,
   "id": "4bdd10ed-fe9e-469e-8d9d-bcfc0c42c566",
   "metadata": {},
   "outputs": [
    {
     "name": "stdout",
     "output_type": "stream",
     "text": [
      "(10, 'vedika', '4A', 'Gurukul', '54687353')\n"
     ]
    }
   ],
   "source": [
    "stud_info(10,'vedika','4A','Gurukul','54687353')"
   ]
  },
  {
   "cell_type": "code",
   "execution_count": 43,
   "id": "79d14051-7cb9-40bf-96d7-b6912741e0af",
   "metadata": {},
   "outputs": [],
   "source": [
    "#keyword arguments\n",
    "def stud_info(id,name,std,school):\n",
    "    print(f'stud_id={id}\\n name={name}\\n std={std}\\n school={school}\\n')"
   ]
  },
  {
   "cell_type": "code",
   "execution_count": 45,
   "id": "05316e12-48d2-4d43-9cff-5d8db6d9d30e",
   "metadata": {},
   "outputs": [
    {
     "name": "stdout",
     "output_type": "stream",
     "text": [
      "stud_id=12\n",
      " name=ishwari\n",
      " std=10A\n",
      " school=podar\n",
      "\n"
     ]
    }
   ],
   "source": [
    "stud_info(name='ishwari',std='10A',school='podar',id=12)"
   ]
  },
  {
   "cell_type": "code",
   "execution_count": 47,
   "id": "8abe1181-1b4b-4381-b1ea-8c03f5c39e3d",
   "metadata": {},
   "outputs": [],
   "source": [
    "#variable length keyword args\n",
    "def stud_info(**kwargs):\n",
    "    print(kwargs)"
   ]
  },
  {
   "cell_type": "code",
   "execution_count": 49,
   "id": "8878c6f0-61a5-452a-8a6b-8639606b2220",
   "metadata": {},
   "outputs": [
    {
     "name": "stdout",
     "output_type": "stream",
     "text": [
      "{'name': 'ishwari', 'std': '10A', 'school': 'podar', 'id': 12, 'aadhar': 34657753555}\n"
     ]
    }
   ],
   "source": [
    "stud_info(name='ishwari',std='10A',school='podar',id=12,aadhar=34657753555)"
   ]
  },
  {
   "cell_type": "code",
   "execution_count": 67,
   "id": "3ed7cb6d-93b4-47c3-a6e8-3905cdbe1bcb",
   "metadata": {},
   "outputs": [],
   "source": [
    "#combination of all\n",
    "def stud_info(id,name='hi',*args,**kwargs):\n",
    "    print(id)\n",
    "    print(name)\n",
    "    print(args)\n",
    "    print(kwargs)"
   ]
  },
  {
   "cell_type": "code",
   "execution_count": 69,
   "id": "49dcd357-22a8-4102-88c9-9a6b5c22dfdb",
   "metadata": {},
   "outputs": [
    {
     "name": "stdout",
     "output_type": "stream",
     "text": [
      "10\n",
      "hi\n",
      "()\n",
      "{'school': 'GJS', 'aadhar': 5463545485, 'std': '3A'}\n"
     ]
    }
   ],
   "source": [
    "stud_info(10,school='GJS',aadhar=5463545485,std='3A')"
   ]
  },
  {
   "cell_type": "code",
   "execution_count": null,
   "id": "5d929c50-d4f9-4ed3-b2a3-049e3da9325b",
   "metadata": {},
   "outputs": [],
   "source": []
  }
 ],
 "metadata": {
  "kernelspec": {
   "display_name": "Python 3 (ipykernel)",
   "language": "python",
   "name": "python3"
  },
  "language_info": {
   "codemirror_mode": {
    "name": "ipython",
    "version": 3
   },
   "file_extension": ".py",
   "mimetype": "text/x-python",
   "name": "python",
   "nbconvert_exporter": "python",
   "pygments_lexer": "ipython3",
   "version": "3.11.7"
  }
 },
 "nbformat": 4,
 "nbformat_minor": 5
}
