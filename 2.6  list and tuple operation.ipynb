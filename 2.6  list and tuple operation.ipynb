{
 "cells": [
  {
   "cell_type": "code",
   "execution_count": 1,
   "id": "13a40fa5-7188-4d25-baad-f03a1075f130",
   "metadata": {},
   "outputs": [],
   "source": [
    "EmpDetails=[]"
   ]
  },
  {
   "cell_type": "code",
   "execution_count": 23,
   "id": "ec979095-fbcf-4ada-8052-9ba57797c198",
   "metadata": {},
   "outputs": [],
   "source": [
    "EmpDetails.insert(0,1)"
   ]
  },
  {
   "cell_type": "code",
   "execution_count": 25,
   "id": "ed471e0e-0b23-46de-8810-c46784ccdd31",
   "metadata": {},
   "outputs": [
    {
     "data": {
      "text/plain": [
       "[1]"
      ]
     },
     "execution_count": 25,
     "metadata": {},
     "output_type": "execute_result"
    }
   ],
   "source": [
    "EmpDetails"
   ]
  },
  {
   "cell_type": "code",
   "execution_count": 29,
   "id": "e9fc98ff-3c25-4627-b269-767db6ecee5e",
   "metadata": {},
   "outputs": [],
   "source": [
    "EmpDetails.append('Name')"
   ]
  },
  {
   "cell_type": "code",
   "execution_count": 34,
   "id": "86c52a26-ab2f-4cb7-82d7-7b2a15afbc58",
   "metadata": {},
   "outputs": [
    {
     "data": {
      "text/plain": [
       "[1, 'Name']"
      ]
     },
     "execution_count": 34,
     "metadata": {},
     "output_type": "execute_result"
    }
   ],
   "source": [
    "EmpDetails"
   ]
  },
  {
   "cell_type": "code",
   "execution_count": 40,
   "id": "246a1108-ed49-4e16-95a6-6194e3defd8a",
   "metadata": {},
   "outputs": [],
   "source": [
    "EmpDetails.extend(['salary','Pan','aadhar'])"
   ]
  },
  {
   "cell_type": "code",
   "execution_count": 42,
   "id": "40c74c63-d553-4c1f-8d29-bf7580c2fb1d",
   "metadata": {},
   "outputs": [
    {
     "data": {
      "text/plain": [
       "[1, 'Name', 'salary', 'Pan', 'aadhar']"
      ]
     },
     "execution_count": 42,
     "metadata": {},
     "output_type": "execute_result"
    }
   ],
   "source": [
    "EmpDetails"
   ]
  },
  {
   "cell_type": "code",
   "execution_count": 46,
   "id": "23e192ca-68cd-4230-9dd9-ba5145e419e1",
   "metadata": {},
   "outputs": [
    {
     "data": {
      "text/plain": [
       "1"
      ]
     },
     "execution_count": 46,
     "metadata": {},
     "output_type": "execute_result"
    }
   ],
   "source": [
    "EmpDetails.count(1)"
   ]
  },
  {
   "cell_type": "code",
   "execution_count": 50,
   "id": "fcd3721b-c801-4bcd-b1da-7cb87c5dd314",
   "metadata": {},
   "outputs": [
    {
     "data": {
      "text/plain": [
       "3"
      ]
     },
     "execution_count": 50,
     "metadata": {},
     "output_type": "execute_result"
    }
   ],
   "source": [
    "EmpDetails.index('Pan')"
   ]
  },
  {
   "cell_type": "code",
   "execution_count": 54,
   "id": "cbd0d19b-e4a6-4db3-a698-7ef4d1a5c140",
   "metadata": {},
   "outputs": [],
   "source": [
    "EmpDetails.remove(1)"
   ]
  },
  {
   "cell_type": "markdown",
   "id": "e9c3f248-bf46-42e5-af97-c6995f10f44e",
   "metadata": {},
   "source": []
  },
  {
   "cell_type": "code",
   "execution_count": 56,
   "id": "42eaf48e-0a86-4af7-9431-0f2c1765e6de",
   "metadata": {},
   "outputs": [
    {
     "data": {
      "text/plain": [
       "['Name', 'salary', 'Pan', 'aadhar']"
      ]
     },
     "execution_count": 56,
     "metadata": {},
     "output_type": "execute_result"
    }
   ],
   "source": [
    "EmpDetails"
   ]
  },
  {
   "cell_type": "code",
   "execution_count": 58,
   "id": "f4e7a06c-5738-4ba1-a375-0b36f705a209",
   "metadata": {},
   "outputs": [
    {
     "data": {
      "text/plain": [
       "'aadhar'"
      ]
     },
     "execution_count": 58,
     "metadata": {},
     "output_type": "execute_result"
    }
   ],
   "source": [
    "EmpDetails.pop()"
   ]
  },
  {
   "cell_type": "code",
   "execution_count": 62,
   "id": "0e3c244e-7d4e-4605-ab6e-46405db0a0c0",
   "metadata": {},
   "outputs": [
    {
     "data": {
      "text/plain": [
       "'Pan'"
      ]
     },
     "execution_count": 62,
     "metadata": {},
     "output_type": "execute_result"
    }
   ],
   "source": [
    "EmpDetails.pop(2)"
   ]
  },
  {
   "cell_type": "code",
   "execution_count": 64,
   "id": "a0ad31ac-a96c-4efc-b2f8-2e55c80c5b4c",
   "metadata": {},
   "outputs": [],
   "source": [
    "EmpDetails.clear()"
   ]
  },
  {
   "cell_type": "code",
   "execution_count": 66,
   "id": "8c7c3bc0-7dbb-484e-a6fc-2e039e6bf542",
   "metadata": {},
   "outputs": [
    {
     "data": {
      "text/plain": [
       "[]"
      ]
     },
     "execution_count": 66,
     "metadata": {},
     "output_type": "execute_result"
    }
   ],
   "source": [
    "EmpDetails"
   ]
  },
  {
   "cell_type": "code",
   "execution_count": 72,
   "id": "b5db4fb4-d40e-4f82-a8fe-6f499926047d",
   "metadata": {},
   "outputs": [],
   "source": [
    "EmpDetails.extend([54,88,65,12,35,14,75,96])"
   ]
  },
  {
   "cell_type": "code",
   "execution_count": 74,
   "id": "187fd090-9ec6-4c03-87bf-9c93f9e08870",
   "metadata": {},
   "outputs": [
    {
     "data": {
      "text/plain": [
       "[54, 88, 65, 12, 35, 14, 75, 96, 54, 88, 65, 12, 35, 14, 75, 96]"
      ]
     },
     "execution_count": 74,
     "metadata": {},
     "output_type": "execute_result"
    }
   ],
   "source": [
    "EmpDetails"
   ]
  },
  {
   "cell_type": "code",
   "execution_count": 76,
   "id": "59e36dfe-2a82-4c5d-8649-90b913692ff4",
   "metadata": {},
   "outputs": [
    {
     "data": {
      "text/plain": [
       "2"
      ]
     },
     "execution_count": 76,
     "metadata": {},
     "output_type": "execute_result"
    }
   ],
   "source": [
    "EmpDetails.count(14)"
   ]
  },
  {
   "cell_type": "code",
   "execution_count": 78,
   "id": "f628eeb6-99c8-48f9-acce-60879930b288",
   "metadata": {},
   "outputs": [],
   "source": [
    "EmpDetails.sort()"
   ]
  },
  {
   "cell_type": "code",
   "execution_count": 80,
   "id": "95daa1e0-960b-4112-8913-46a720f7fcc4",
   "metadata": {},
   "outputs": [
    {
     "data": {
      "text/plain": [
       "[12, 12, 14, 14, 35, 35, 54, 54, 65, 65, 75, 75, 88, 88, 96, 96]"
      ]
     },
     "execution_count": 80,
     "metadata": {},
     "output_type": "execute_result"
    }
   ],
   "source": [
    "EmpDetails"
   ]
  },
  {
   "cell_type": "code",
   "execution_count": 82,
   "id": "de6ab30b-c417-431a-a485-b1ebb54e6cbf",
   "metadata": {},
   "outputs": [],
   "source": [
    "EmpDetails.sort(reverse=True)"
   ]
  },
  {
   "cell_type": "code",
   "execution_count": 84,
   "id": "112d3497-d58b-41b7-bf39-4fd8c2f662ba",
   "metadata": {},
   "outputs": [
    {
     "data": {
      "text/plain": [
       "[96, 96, 88, 88, 75, 75, 65, 65, 54, 54, 35, 35, 14, 14, 12, 12]"
      ]
     },
     "execution_count": 84,
     "metadata": {},
     "output_type": "execute_result"
    }
   ],
   "source": [
    "EmpDetails"
   ]
  },
  {
   "cell_type": "code",
   "execution_count": 86,
   "id": "4b455f02-e1cc-4c33-8e68-b9201897d205",
   "metadata": {},
   "outputs": [],
   "source": [
    "EmpDetails[7]=100"
   ]
  },
  {
   "cell_type": "code",
   "execution_count": 88,
   "id": "b7103588-ff18-433c-b6f3-ab6460b38dbd",
   "metadata": {},
   "outputs": [
    {
     "data": {
      "text/plain": [
       "[96, 96, 88, 88, 75, 75, 65, 100, 54, 54, 35, 35, 14, 14, 12, 12]"
      ]
     },
     "execution_count": 88,
     "metadata": {},
     "output_type": "execute_result"
    }
   ],
   "source": [
    "EmpDetails"
   ]
  },
  {
   "cell_type": "code",
   "execution_count": 90,
   "id": "e8835a58-5970-48e5-9a8d-63eb79c55436",
   "metadata": {},
   "outputs": [],
   "source": [
    "EmpDetails1=[]"
   ]
  },
  {
   "cell_type": "code",
   "execution_count": 92,
   "id": "f7e2b893-679d-420f-b74c-0643317de906",
   "metadata": {},
   "outputs": [],
   "source": [
    "EmpDetails1=EmpDetails.copy()"
   ]
  },
  {
   "cell_type": "code",
   "execution_count": 94,
   "id": "fe82148d-2e98-4d31-a90d-d9c805dc8fbe",
   "metadata": {},
   "outputs": [
    {
     "data": {
      "text/plain": [
       "[96, 96, 88, 88, 75, 75, 65, 100, 54, 54, 35, 35, 14, 14, 12, 12]"
      ]
     },
     "execution_count": 94,
     "metadata": {},
     "output_type": "execute_result"
    }
   ],
   "source": [
    "EmpDetails1"
   ]
  },
  {
   "cell_type": "code",
   "execution_count": 96,
   "id": "f577f38a-671b-4e18-8ec3-633d76ff32af",
   "metadata": {},
   "outputs": [],
   "source": [
    "StudentDetails=()"
   ]
  },
  {
   "cell_type": "code",
   "execution_count": 98,
   "id": "b8dd52bc-0dc8-4c0a-a274-d7a24bcacfc2",
   "metadata": {},
   "outputs": [
    {
     "data": {
      "text/plain": [
       "tuple"
      ]
     },
     "execution_count": 98,
     "metadata": {},
     "output_type": "execute_result"
    }
   ],
   "source": [
    "type(StudentDetails)"
   ]
  },
  {
   "cell_type": "code",
   "execution_count": 106,
   "id": "58c728fa-0d4f-477d-a48f-f7cc45454883",
   "metadata": {},
   "outputs": [
    {
     "data": {
      "text/plain": [
       "()"
      ]
     },
     "execution_count": 106,
     "metadata": {},
     "output_type": "execute_result"
    }
   ],
   "source": [
    "StudentDetails"
   ]
  },
  {
   "cell_type": "code",
   "execution_count": 108,
   "id": "6017801a-b754-4dc2-af39-dc89ce2acd41",
   "metadata": {},
   "outputs": [],
   "source": [
    "Stud=(1,2,3)"
   ]
  },
  {
   "cell_type": "code",
   "execution_count": 110,
   "id": "06218557-81ee-4977-b431-bfc4e5fc67c0",
   "metadata": {},
   "outputs": [
    {
     "data": {
      "text/plain": [
       "tuple"
      ]
     },
     "execution_count": 110,
     "metadata": {},
     "output_type": "execute_result"
    }
   ],
   "source": [
    "type(Stud)"
   ]
  },
  {
   "cell_type": "code",
   "execution_count": 112,
   "id": "6925f6c1-7d4b-4e7c-927a-9d8218cc07c1",
   "metadata": {},
   "outputs": [
    {
     "data": {
      "text/plain": [
       "1"
      ]
     },
     "execution_count": 112,
     "metadata": {},
     "output_type": "execute_result"
    }
   ],
   "source": [
    "Stud.count(1)"
   ]
  },
  {
   "cell_type": "code",
   "execution_count": 114,
   "id": "41732f5c-ebbf-4a78-b799-2d07e56ccc89",
   "metadata": {},
   "outputs": [
    {
     "data": {
      "text/plain": [
       "1"
      ]
     },
     "execution_count": 114,
     "metadata": {},
     "output_type": "execute_result"
    }
   ],
   "source": [
    "Stud.count(3)"
   ]
  },
  {
   "cell_type": "code",
   "execution_count": 116,
   "id": "606e0d5d-2ad6-46da-ab25-7fd363176e0d",
   "metadata": {},
   "outputs": [
    {
     "data": {
      "text/plain": [
       "1"
      ]
     },
     "execution_count": 116,
     "metadata": {},
     "output_type": "execute_result"
    }
   ],
   "source": [
    "Stud.index(2)"
   ]
  },
  {
   "cell_type": "code",
   "execution_count": 120,
   "id": "d166364f-9b1c-492b-8bf3-ffb945805298",
   "metadata": {},
   "outputs": [
    {
     "data": {
      "text/plain": [
       "0"
      ]
     },
     "execution_count": 120,
     "metadata": {},
     "output_type": "execute_result"
    }
   ],
   "source": [
    "Stud.index(1)"
   ]
  },
  {
   "cell_type": "code",
   "execution_count": null,
   "id": "9fc159a8-1802-4da0-91a9-1c869b323339",
   "metadata": {},
   "outputs": [],
   "source": []
  }
 ],
 "metadata": {
  "kernelspec": {
   "display_name": "Python 3 (ipykernel)",
   "language": "python",
   "name": "python3"
  },
  "language_info": {
   "codemirror_mode": {
    "name": "ipython",
    "version": 3
   },
   "file_extension": ".py",
   "mimetype": "text/x-python",
   "name": "python",
   "nbconvert_exporter": "python",
   "pygments_lexer": "ipython3",
   "version": "3.11.7"
  }
 },
 "nbformat": 4,
 "nbformat_minor": 5
}
