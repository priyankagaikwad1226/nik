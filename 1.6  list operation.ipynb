{
 "cells": [
  {
   "cell_type": "code",
   "execution_count": 3,
   "id": "cc7e4653-aa4d-418a-b3dd-e95ae0373037",
   "metadata": {},
   "outputs": [],
   "source": [
    "l1=[1,2,3,4,5,6,7]"
   ]
  },
  {
   "cell_type": "code",
   "execution_count": 5,
   "id": "a3e51d89-faa7-430f-a96e-466d3e281922",
   "metadata": {},
   "outputs": [
    {
     "data": {
      "text/plain": [
       "[1, 2, 3, 4, 5, 6, 7]"
      ]
     },
     "execution_count": 5,
     "metadata": {},
     "output_type": "execute_result"
    }
   ],
   "source": [
    "l1"
   ]
  },
  {
   "cell_type": "code",
   "execution_count": 7,
   "id": "bcb06af6-0971-4ed3-bad3-1ccaa5691dc8",
   "metadata": {},
   "outputs": [],
   "source": [
    "l1.insert(4,44)"
   ]
  },
  {
   "cell_type": "code",
   "execution_count": 9,
   "id": "88b2b04a-6818-46d5-875d-fe783701551e",
   "metadata": {},
   "outputs": [
    {
     "data": {
      "text/plain": [
       "[1, 2, 3, 4, 44, 5, 6, 7]"
      ]
     },
     "execution_count": 9,
     "metadata": {},
     "output_type": "execute_result"
    }
   ],
   "source": [
    "l1"
   ]
  },
  {
   "cell_type": "code",
   "execution_count": 11,
   "id": "e327d2ae-9efb-4123-9cd0-c735a515dc8e",
   "metadata": {},
   "outputs": [],
   "source": [
    "l1.insert(6,55)"
   ]
  },
  {
   "cell_type": "code",
   "execution_count": 13,
   "id": "d2d2e4a0-62ad-40b2-9a9f-b7455b21b35d",
   "metadata": {},
   "outputs": [
    {
     "data": {
      "text/plain": [
       "[1, 2, 3, 4, 44, 5, 55, 6, 7]"
      ]
     },
     "execution_count": 13,
     "metadata": {},
     "output_type": "execute_result"
    }
   ],
   "source": [
    "l1"
   ]
  },
  {
   "cell_type": "code",
   "execution_count": 17,
   "id": "9dc4ed59-2e42-4b0c-a23b-ac5441b76040",
   "metadata": {},
   "outputs": [],
   "source": [
    "l1.insert(8,52)"
   ]
  },
  {
   "cell_type": "code",
   "execution_count": 19,
   "id": "99023248-c56e-4848-80ca-f01f71baa740",
   "metadata": {},
   "outputs": [
    {
     "data": {
      "text/plain": [
       "[1, 2, 3, 4, 44, 5, 55, 6, 52, 7]"
      ]
     },
     "execution_count": 19,
     "metadata": {},
     "output_type": "execute_result"
    }
   ],
   "source": [
    "l1"
   ]
  },
  {
   "cell_type": "code",
   "execution_count": 21,
   "id": "2a4fbc7b-b352-46fa-be7b-65d8227f70c5",
   "metadata": {},
   "outputs": [],
   "source": [
    "l1.append(53)"
   ]
  },
  {
   "cell_type": "code",
   "execution_count": 23,
   "id": "d22b086b-0d77-4edc-83c5-ed2e8a366fca",
   "metadata": {},
   "outputs": [
    {
     "data": {
      "text/plain": [
       "[1, 2, 3, 4, 44, 5, 55, 6, 52, 7, 53]"
      ]
     },
     "execution_count": 23,
     "metadata": {},
     "output_type": "execute_result"
    }
   ],
   "source": [
    "l1"
   ]
  },
  {
   "cell_type": "code",
   "execution_count": 25,
   "id": "92342551-b930-47b4-9f64-86855db3d9f0",
   "metadata": {},
   "outputs": [],
   "source": [
    "l1.append(22)"
   ]
  },
  {
   "cell_type": "code",
   "execution_count": 27,
   "id": "684899f9-9442-4b8b-b176-8785ddd657da",
   "metadata": {},
   "outputs": [
    {
     "data": {
      "text/plain": [
       "[1, 2, 3, 4, 44, 5, 55, 6, 52, 7, 53, 22]"
      ]
     },
     "execution_count": 27,
     "metadata": {},
     "output_type": "execute_result"
    }
   ],
   "source": [
    "l1"
   ]
  },
  {
   "cell_type": "markdown",
   "id": "24c459c0-d02b-4772-9a74-59c410c007a9",
   "metadata": {},
   "source": []
  },
  {
   "cell_type": "code",
   "execution_count": 35,
   "id": "3a6f4ac0-2afc-4975-b6b9-4fb18029524a",
   "metadata": {},
   "outputs": [],
   "source": [
    "l1.extend([28,29,60])"
   ]
  },
  {
   "cell_type": "code",
   "execution_count": 37,
   "id": "55fd66bf-3bd9-4c94-b3fa-6ac96caa9541",
   "metadata": {},
   "outputs": [
    {
     "data": {
      "text/plain": [
       "[1, 2, 3, 4, 44, 5, 55, 6, 52, 7, 53, 22, 28, 29, 60]"
      ]
     },
     "execution_count": 37,
     "metadata": {},
     "output_type": "execute_result"
    }
   ],
   "source": [
    "l1"
   ]
  },
  {
   "cell_type": "code",
   "execution_count": 39,
   "id": "03215ce3-26ff-47f2-bc74-96d041e72190",
   "metadata": {},
   "outputs": [],
   "source": [
    "l1.extend([56,88,99])"
   ]
  },
  {
   "cell_type": "code",
   "execution_count": 41,
   "id": "92d9e506-56a3-44e7-8977-f9458844b5ec",
   "metadata": {},
   "outputs": [
    {
     "data": {
      "text/plain": [
       "[1, 2, 3, 4, 44, 5, 55, 6, 52, 7, 53, 22, 28, 29, 60, 56, 88, 99]"
      ]
     },
     "execution_count": 41,
     "metadata": {},
     "output_type": "execute_result"
    }
   ],
   "source": [
    "l1"
   ]
  },
  {
   "cell_type": "code",
   "execution_count": 55,
   "id": "656edcf6-1d92-4983-86f6-0e1b1d3585ea",
   "metadata": {},
   "outputs": [],
   "source": [
    "l1.remove(44)"
   ]
  },
  {
   "cell_type": "markdown",
   "id": "d37c03a6-8541-4743-be4f-b6555dec3e39",
   "metadata": {},
   "source": [
    "l1 "
   ]
  },
  {
   "cell_type": "code",
   "execution_count": 58,
   "id": "10ce183e-4fab-4097-a34e-849d350b5dd0",
   "metadata": {},
   "outputs": [
    {
     "data": {
      "text/plain": [
       "[1, 2, 3, 4, 5, 6, 52, 7, 53, 22, 28, 29, 60, 56, 88, 99]"
      ]
     },
     "execution_count": 58,
     "metadata": {},
     "output_type": "execute_result"
    }
   ],
   "source": [
    "l1"
   ]
  },
  {
   "cell_type": "code",
   "execution_count": 60,
   "id": "8fb4a20c-fd04-4712-a45f-946ac198d97a",
   "metadata": {},
   "outputs": [],
   "source": [
    "l1.remove(88)"
   ]
  },
  {
   "cell_type": "code",
   "execution_count": 62,
   "id": "2e865656-e102-4832-aa2c-6089394c42cd",
   "metadata": {},
   "outputs": [
    {
     "data": {
      "text/plain": [
       "[1, 2, 3, 4, 5, 6, 52, 7, 53, 22, 28, 29, 60, 56, 99]"
      ]
     },
     "execution_count": 62,
     "metadata": {},
     "output_type": "execute_result"
    }
   ],
   "source": [
    "l1"
   ]
  },
  {
   "cell_type": "code",
   "execution_count": 68,
   "id": "19a79120-36be-4891-82e1-781689249875",
   "metadata": {},
   "outputs": [],
   "source": [
    "l1.remove(60)"
   ]
  },
  {
   "cell_type": "markdown",
   "id": "3f07e16b-d23c-455c-bf44-6651f26432e0",
   "metadata": {},
   "source": [
    "# "
   ]
  },
  {
   "cell_type": "code",
   "execution_count": 71,
   "id": "05b1f22f-9778-4bda-b8c5-42dd0fe21afd",
   "metadata": {},
   "outputs": [
    {
     "data": {
      "text/plain": [
       "[1, 2, 3, 4, 5, 6, 52, 7, 53, 22, 28, 29, 56, 99]"
      ]
     },
     "execution_count": 71,
     "metadata": {},
     "output_type": "execute_result"
    }
   ],
   "source": [
    "l1"
   ]
  },
  {
   "cell_type": "code",
   "execution_count": 73,
   "id": "0dc0e5d0-0cb3-4719-b7ab-d2188a1164f9",
   "metadata": {},
   "outputs": [
    {
     "data": {
      "text/plain": [
       "1"
      ]
     },
     "execution_count": 73,
     "metadata": {},
     "output_type": "execute_result"
    }
   ],
   "source": [
    "l1.pop(0)"
   ]
  },
  {
   "cell_type": "code",
   "execution_count": 75,
   "id": "46af38ea-14c5-4d9f-a9b4-9058fd4e001e",
   "metadata": {},
   "outputs": [
    {
     "data": {
      "text/plain": [
       "[2, 3, 4, 5, 6, 52, 7, 53, 22, 28, 29, 56, 99]"
      ]
     },
     "execution_count": 75,
     "metadata": {},
     "output_type": "execute_result"
    }
   ],
   "source": [
    "l1"
   ]
  },
  {
   "cell_type": "code",
   "execution_count": 77,
   "id": "48b90899-343e-4049-bfca-97674e167180",
   "metadata": {},
   "outputs": [
    {
     "data": {
      "text/plain": [
       "99"
      ]
     },
     "execution_count": 77,
     "metadata": {},
     "output_type": "execute_result"
    }
   ],
   "source": [
    "l1.pop()"
   ]
  },
  {
   "cell_type": "code",
   "execution_count": 79,
   "id": "86d4696e-c9ab-4c5e-b084-936edbce4bed",
   "metadata": {},
   "outputs": [
    {
     "data": {
      "text/plain": [
       "52"
      ]
     },
     "execution_count": 79,
     "metadata": {},
     "output_type": "execute_result"
    }
   ],
   "source": [
    "l1.pop(5)"
   ]
  },
  {
   "cell_type": "code",
   "execution_count": 81,
   "id": "966d9f62-970d-4ae5-9045-ffeccb452bc2",
   "metadata": {},
   "outputs": [
    {
     "data": {
      "text/plain": [
       "[2, 3, 4, 5, 6, 7, 53, 22, 28, 29, 56]"
      ]
     },
     "execution_count": 81,
     "metadata": {},
     "output_type": "execute_result"
    }
   ],
   "source": [
    "l1"
   ]
  },
  {
   "cell_type": "code",
   "execution_count": 83,
   "id": "7a4be45d-d2c1-4b12-83b2-723489122170",
   "metadata": {},
   "outputs": [],
   "source": [
    "l1.clear()"
   ]
  },
  {
   "cell_type": "code",
   "execution_count": 85,
   "id": "a7d62b28-4f8b-41dc-928b-3e398c43b860",
   "metadata": {},
   "outputs": [
    {
     "data": {
      "text/plain": [
       "[]"
      ]
     },
     "execution_count": 85,
     "metadata": {},
     "output_type": "execute_result"
    }
   ],
   "source": [
    "l1"
   ]
  },
  {
   "cell_type": "code",
   "execution_count": 87,
   "id": "dad938bd-107c-4b84-8210-2eae4e63344a",
   "metadata": {},
   "outputs": [],
   "source": [
    "student=[]"
   ]
  },
  {
   "cell_type": "code",
   "execution_count": 89,
   "id": "8d50c5d9-50a5-42a1-b75d-aec7ab219f53",
   "metadata": {},
   "outputs": [
    {
     "data": {
      "text/plain": [
       "[]"
      ]
     },
     "execution_count": 89,
     "metadata": {},
     "output_type": "execute_result"
    }
   ],
   "source": [
    "student"
   ]
  },
  {
   "cell_type": "code",
   "execution_count": 91,
   "id": "b62d8798-d523-48b0-9217-f75aa4ec1e46",
   "metadata": {},
   "outputs": [],
   "source": [
    "student.insert(0,1)"
   ]
  },
  {
   "cell_type": "code",
   "execution_count": 93,
   "id": "bb236191-461f-4515-bd5a-7c36f4d6467e",
   "metadata": {},
   "outputs": [
    {
     "data": {
      "text/plain": [
       "[1]"
      ]
     },
     "execution_count": 93,
     "metadata": {},
     "output_type": "execute_result"
    }
   ],
   "source": [
    "student"
   ]
  },
  {
   "cell_type": "code",
   "execution_count": 95,
   "id": "6bfae2e3-abd0-46a4-8b58-781a016ea6a9",
   "metadata": {},
   "outputs": [],
   "source": [
    "student.insert(1,'Devesh')"
   ]
  },
  {
   "cell_type": "code",
   "execution_count": 97,
   "id": "e92d1dea-f7ca-4bfc-81dd-5625ceb38c4c",
   "metadata": {},
   "outputs": [
    {
     "data": {
      "text/plain": [
       "[1, 'Devesh']"
      ]
     },
     "execution_count": 97,
     "metadata": {},
     "output_type": "execute_result"
    }
   ],
   "source": [
    "student"
   ]
  },
  {
   "cell_type": "code",
   "execution_count": 99,
   "id": "a463903f-00ff-4837-b7d0-b2e6ecf15d73",
   "metadata": {},
   "outputs": [],
   "source": [
    "student.append('GJS')"
   ]
  },
  {
   "cell_type": "code",
   "execution_count": 101,
   "id": "6305d92b-a02f-4092-8f8e-86b9b6170f43",
   "metadata": {},
   "outputs": [
    {
     "data": {
      "text/plain": [
       "[1, 'Devesh', 'GJS']"
      ]
     },
     "execution_count": 101,
     "metadata": {},
     "output_type": "execute_result"
    }
   ],
   "source": [
    "student"
   ]
  },
  {
   "cell_type": "code",
   "execution_count": 103,
   "id": "1f825fba-6eb9-4cf2-a1df-2037ab8ed4b3",
   "metadata": {},
   "outputs": [],
   "source": [
    "student1=[]"
   ]
  },
  {
   "cell_type": "code",
   "execution_count": 105,
   "id": "e2b60f84-e82e-4d88-b775-84a427f4459c",
   "metadata": {},
   "outputs": [],
   "source": [
    "student1.extend([2,'Darsh','GJS'])"
   ]
  },
  {
   "cell_type": "code",
   "execution_count": 107,
   "id": "ca9e265f-1a9a-4c55-82c4-17aa70e05fdb",
   "metadata": {},
   "outputs": [
    {
     "data": {
      "text/plain": [
       "[2, 'Darsh', 'GJS']"
      ]
     },
     "execution_count": 107,
     "metadata": {},
     "output_type": "execute_result"
    }
   ],
   "source": [
    "student1"
   ]
  },
  {
   "cell_type": "code",
   "execution_count": 109,
   "id": "1bc5dfc1-010d-4aab-8795-3a331cfea6a5",
   "metadata": {},
   "outputs": [],
   "source": [
    "student.append(student1)"
   ]
  },
  {
   "cell_type": "code",
   "execution_count": 111,
   "id": "cf5915f0-0ab0-4bd9-83db-007ad6d5385d",
   "metadata": {},
   "outputs": [
    {
     "data": {
      "text/plain": [
       "[1, 'Devesh', 'GJS', [2, 'Darsh', 'GJS']]"
      ]
     },
     "execution_count": 111,
     "metadata": {},
     "output_type": "execute_result"
    }
   ],
   "source": [
    "student"
   ]
  },
  {
   "cell_type": "code",
   "execution_count": 117,
   "id": "e9014b99-85a4-40cb-b35d-1e6b60ade72c",
   "metadata": {},
   "outputs": [],
   "source": [
    "student.append(student)"
   ]
  },
  {
   "cell_type": "code",
   "execution_count": 119,
   "id": "143e5711-9e39-4026-a960-87a345d0987c",
   "metadata": {},
   "outputs": [
    {
     "data": {
      "text/plain": [
       "[1, 'Devesh', 'GJS', [2, 'Darsh', 'GJS'], [...], [...]]"
      ]
     },
     "execution_count": 119,
     "metadata": {},
     "output_type": "execute_result"
    }
   ],
   "source": [
    "student"
   ]
  },
  {
   "cell_type": "code",
   "execution_count": 121,
   "id": "4404510d-c3f4-4e0b-8708-bff0228ea873",
   "metadata": {},
   "outputs": [
    {
     "data": {
      "text/plain": [
       "[2, 'Darsh', 'GJS']"
      ]
     },
     "execution_count": 121,
     "metadata": {},
     "output_type": "execute_result"
    }
   ],
   "source": [
    "student.pop(3)"
   ]
  },
  {
   "cell_type": "code",
   "execution_count": 123,
   "id": "204881ce-1e3e-4f53-9992-01e91eb9ac47",
   "metadata": {},
   "outputs": [
    {
     "data": {
      "text/plain": [
       "'Devesh'"
      ]
     },
     "execution_count": 123,
     "metadata": {},
     "output_type": "execute_result"
    }
   ],
   "source": [
    "student.pop(1)"
   ]
  },
  {
   "cell_type": "code",
   "execution_count": 125,
   "id": "74150500-157c-4fe4-938a-27f4c26499b0",
   "metadata": {},
   "outputs": [
    {
     "data": {
      "text/plain": [
       "[1, 'GJS', [...]]"
      ]
     },
     "execution_count": 125,
     "metadata": {},
     "output_type": "execute_result"
    }
   ],
   "source": [
    "student.pop(2)"
   ]
  },
  {
   "cell_type": "code",
   "execution_count": 127,
   "id": "d920bb44-f9ef-47e3-bf62-8e168fa780c1",
   "metadata": {},
   "outputs": [
    {
     "data": {
      "text/plain": [
       "[1, 'GJS', [...]]"
      ]
     },
     "execution_count": 127,
     "metadata": {},
     "output_type": "execute_result"
    }
   ],
   "source": [
    "student"
   ]
  },
  {
   "cell_type": "code",
   "execution_count": 129,
   "id": "b4c8646b-26c1-460c-9cb3-3b8ac65b026b",
   "metadata": {},
   "outputs": [
    {
     "data": {
      "text/plain": [
       "[1, 'GJS']"
      ]
     },
     "execution_count": 129,
     "metadata": {},
     "output_type": "execute_result"
    }
   ],
   "source": [
    "student.pop(2)"
   ]
  },
  {
   "cell_type": "code",
   "execution_count": 131,
   "id": "8ba80204-a303-42e7-9c35-7d36153802ad",
   "metadata": {},
   "outputs": [
    {
     "data": {
      "text/plain": [
       "'GJS'"
      ]
     },
     "execution_count": 131,
     "metadata": {},
     "output_type": "execute_result"
    }
   ],
   "source": [
    "student.pop(1)"
   ]
  },
  {
   "cell_type": "code",
   "execution_count": 133,
   "id": "0aecbe1d-9896-4f31-ba5e-dd39da153f6d",
   "metadata": {},
   "outputs": [
    {
     "data": {
      "text/plain": [
       "[1]"
      ]
     },
     "execution_count": 133,
     "metadata": {},
     "output_type": "execute_result"
    }
   ],
   "source": [
    "student"
   ]
  },
  {
   "cell_type": "code",
   "execution_count": 1,
   "id": "bbf1df53-5258-480a-bc37-6d45b78bb0f4",
   "metadata": {},
   "outputs": [],
   "source": [
    "l=[1,2,3,4,5,6]"
   ]
  },
  {
   "cell_type": "code",
   "execution_count": 3,
   "id": "260befdc-9471-4b12-878a-435fe7ef0077",
   "metadata": {},
   "outputs": [],
   "source": [
    "l.reverse()"
   ]
  },
  {
   "cell_type": "code",
   "execution_count": 5,
   "id": "a2a4d82e-cc30-432e-a400-711d4fb97526",
   "metadata": {},
   "outputs": [
    {
     "data": {
      "text/plain": [
       "[6, 5, 4, 3, 2, 1]"
      ]
     },
     "execution_count": 5,
     "metadata": {},
     "output_type": "execute_result"
    }
   ],
   "source": [
    "l"
   ]
  },
  {
   "cell_type": "code",
   "execution_count": null,
   "id": "8ffd47b8-9d56-4c08-b97a-87ba0b015d92",
   "metadata": {},
   "outputs": [],
   "source": []
  }
 ],
 "metadata": {
  "kernelspec": {
   "display_name": "Python 3 (ipykernel)",
   "language": "python",
   "name": "python3"
  },
  "language_info": {
   "codemirror_mode": {
    "name": "ipython",
    "version": 3
   },
   "file_extension": ".py",
   "mimetype": "text/x-python",
   "name": "python",
   "nbconvert_exporter": "python",
   "pygments_lexer": "ipython3",
   "version": "3.11.7"
  }
 },
 "nbformat": 4,
 "nbformat_minor": 5
}
