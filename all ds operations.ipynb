{
 "cells": [
  {
   "cell_type": "code",
   "execution_count": 1,
   "id": "60c7daaa-76bb-4f38-9ab6-014c751aaa25",
   "metadata": {},
   "outputs": [],
   "source": [
    "l1=[1,2,3,4,5,6]"
   ]
  },
  {
   "cell_type": "code",
   "execution_count": 3,
   "id": "91c1509b-ee2f-4753-9e94-ecd0763dd999",
   "metadata": {},
   "outputs": [
    {
     "data": {
      "text/plain": [
       "[1, 2, 3, 4, 5, 6]"
      ]
     },
     "execution_count": 3,
     "metadata": {},
     "output_type": "execute_result"
    }
   ],
   "source": [
    "l1"
   ]
  },
  {
   "cell_type": "code",
   "execution_count": 5,
   "id": "54d29213-41b6-4baa-aec3-4fc61c088701",
   "metadata": {},
   "outputs": [],
   "source": [
    "l1.append(7)"
   ]
  },
  {
   "cell_type": "code",
   "execution_count": 7,
   "id": "7401481e-5249-410a-90b1-d553fcaf2bb9",
   "metadata": {},
   "outputs": [
    {
     "data": {
      "text/plain": [
       "[1, 2, 3, 4, 5, 6, 7]"
      ]
     },
     "execution_count": 7,
     "metadata": {},
     "output_type": "execute_result"
    }
   ],
   "source": [
    "l1"
   ]
  },
  {
   "cell_type": "code",
   "execution_count": 11,
   "id": "2adbf1d5-9df4-4eef-9f2a-bb39d1b0f1b8",
   "metadata": {},
   "outputs": [
    {
     "data": {
      "text/plain": [
       "1"
      ]
     },
     "execution_count": 11,
     "metadata": {},
     "output_type": "execute_result"
    }
   ],
   "source": [
    "l1.count(4)"
   ]
  },
  {
   "cell_type": "code",
   "execution_count": 19,
   "id": "da384275-df81-4f60-a53b-1069e9429535",
   "metadata": {},
   "outputs": [],
   "source": [
    "l1.extend([8,9])"
   ]
  },
  {
   "cell_type": "code",
   "execution_count": 21,
   "id": "777f3347-f62a-4b7e-9618-32960199fc9a",
   "metadata": {},
   "outputs": [
    {
     "data": {
      "text/plain": [
       "[1, 2, 3, 4, 5, 6, 7, 8, 9, 8, 9]"
      ]
     },
     "execution_count": 21,
     "metadata": {},
     "output_type": "execute_result"
    }
   ],
   "source": [
    "l1"
   ]
  },
  {
   "cell_type": "code",
   "execution_count": 23,
   "id": "4adc401e-c24d-4b00-83dd-755e1e9df37c",
   "metadata": {},
   "outputs": [],
   "source": [
    "l1.insert(0,5)"
   ]
  },
  {
   "cell_type": "code",
   "execution_count": 25,
   "id": "d44a88f2-f8a7-4ab6-9c40-d5e8f48a7709",
   "metadata": {},
   "outputs": [
    {
     "data": {
      "text/plain": [
       "[5, 1, 2, 3, 4, 5, 6, 7, 8, 9, 8, 9]"
      ]
     },
     "execution_count": 25,
     "metadata": {},
     "output_type": "execute_result"
    }
   ],
   "source": [
    "l1"
   ]
  },
  {
   "cell_type": "code",
   "execution_count": 27,
   "id": "cb84bc54-62ab-4ef0-9655-dda5c619ae97",
   "metadata": {},
   "outputs": [
    {
     "data": {
      "text/plain": [
       "5"
      ]
     },
     "execution_count": 27,
     "metadata": {},
     "output_type": "execute_result"
    }
   ],
   "source": [
    "l1.pop(5)"
   ]
  },
  {
   "cell_type": "code",
   "execution_count": 29,
   "id": "097f430c-a07d-4936-b8e3-6aba112f7387",
   "metadata": {},
   "outputs": [],
   "source": [
    "l1.remove(5)"
   ]
  },
  {
   "cell_type": "code",
   "execution_count": 31,
   "id": "807b71e0-22cf-48f1-90e1-0eca64b2d48d",
   "metadata": {},
   "outputs": [
    {
     "data": {
      "text/plain": [
       "[1, 2, 3, 4, 6, 7, 8, 9, 8, 9]"
      ]
     },
     "execution_count": 31,
     "metadata": {},
     "output_type": "execute_result"
    }
   ],
   "source": [
    "l1"
   ]
  },
  {
   "cell_type": "code",
   "execution_count": 33,
   "id": "6a854619-85a5-4487-8b04-0a1097a27853",
   "metadata": {},
   "outputs": [],
   "source": [
    "l1.reverse()"
   ]
  },
  {
   "cell_type": "code",
   "execution_count": 35,
   "id": "7616cdc8-9283-4b62-a2dc-4760fcae7a3a",
   "metadata": {},
   "outputs": [
    {
     "data": {
      "text/plain": [
       "[9, 8, 9, 8, 7, 6, 4, 3, 2, 1]"
      ]
     },
     "execution_count": 35,
     "metadata": {},
     "output_type": "execute_result"
    }
   ],
   "source": [
    "l1"
   ]
  },
  {
   "cell_type": "code",
   "execution_count": 37,
   "id": "26b8bbaa-a385-4328-bf40-937c95ef3502",
   "metadata": {},
   "outputs": [],
   "source": [
    "l1.sort()"
   ]
  },
  {
   "cell_type": "code",
   "execution_count": 39,
   "id": "4872067d-e692-4d04-80c0-f725ee36bfa0",
   "metadata": {},
   "outputs": [
    {
     "data": {
      "text/plain": [
       "[1, 2, 3, 4, 6, 7, 8, 8, 9, 9]"
      ]
     },
     "execution_count": 39,
     "metadata": {},
     "output_type": "execute_result"
    }
   ],
   "source": [
    "l1"
   ]
  },
  {
   "cell_type": "code",
   "execution_count": 41,
   "id": "75570dc6-a320-46ea-88b6-2b5edebd4385",
   "metadata": {},
   "outputs": [],
   "source": [
    "l1.sort(reverse=True)"
   ]
  },
  {
   "cell_type": "code",
   "execution_count": 43,
   "id": "bddca762-ebd4-4a2e-aca4-117c22fe413c",
   "metadata": {},
   "outputs": [
    {
     "data": {
      "text/plain": [
       "[9, 9, 8, 8, 7, 6, 4, 3, 2, 1]"
      ]
     },
     "execution_count": 43,
     "metadata": {},
     "output_type": "execute_result"
    }
   ],
   "source": [
    "l1"
   ]
  },
  {
   "cell_type": "code",
   "execution_count": 45,
   "id": "6638e531-ad56-4323-9a83-f587a0778f37",
   "metadata": {},
   "outputs": [
    {
     "data": {
      "text/plain": [
       "5"
      ]
     },
     "execution_count": 45,
     "metadata": {},
     "output_type": "execute_result"
    }
   ],
   "source": [
    "l1.index(6)"
   ]
  },
  {
   "cell_type": "code",
   "execution_count": 49,
   "id": "21fb3431-08d9-45b0-8d82-a81e886d4c5b",
   "metadata": {},
   "outputs": [],
   "source": [
    "l2=l1.copy()"
   ]
  },
  {
   "cell_type": "code",
   "execution_count": 51,
   "id": "9054f6b5-e417-423f-897d-99f1fd6c818e",
   "metadata": {},
   "outputs": [
    {
     "data": {
      "text/plain": [
       "[9, 9, 8, 8, 7, 6, 4, 3, 2, 1]"
      ]
     },
     "execution_count": 51,
     "metadata": {},
     "output_type": "execute_result"
    }
   ],
   "source": [
    "l2"
   ]
  },
  {
   "cell_type": "code",
   "execution_count": 53,
   "id": "fbc608d6-95f0-4246-b3a3-5480f8ff7329",
   "metadata": {},
   "outputs": [],
   "source": [
    "l1[5]=10"
   ]
  },
  {
   "cell_type": "code",
   "execution_count": 55,
   "id": "4500f603-4629-41dc-a9c4-f11a1655f27d",
   "metadata": {},
   "outputs": [
    {
     "data": {
      "text/plain": [
       "[9, 9, 8, 8, 7, 10, 4, 3, 2, 1]"
      ]
     },
     "execution_count": 55,
     "metadata": {},
     "output_type": "execute_result"
    }
   ],
   "source": [
    "l1"
   ]
  },
  {
   "cell_type": "code",
   "execution_count": 57,
   "id": "5baede84-4b03-412b-bd5b-3f0419e29124",
   "metadata": {},
   "outputs": [],
   "source": [
    "t1=(1,2,6,4,8,8)"
   ]
  },
  {
   "cell_type": "code",
   "execution_count": 59,
   "id": "7870774a-a9c5-408c-b222-67f43b19fdeb",
   "metadata": {},
   "outputs": [
    {
     "data": {
      "text/plain": [
       "(1, 2, 6, 4, 8, 8)"
      ]
     },
     "execution_count": 59,
     "metadata": {},
     "output_type": "execute_result"
    }
   ],
   "source": [
    "t1"
   ]
  },
  {
   "cell_type": "code",
   "execution_count": 61,
   "id": "f12c5df6-5839-49e4-a38c-53925274e324",
   "metadata": {},
   "outputs": [
    {
     "data": {
      "text/plain": [
       "tuple"
      ]
     },
     "execution_count": 61,
     "metadata": {},
     "output_type": "execute_result"
    }
   ],
   "source": [
    "type(t1)"
   ]
  },
  {
   "cell_type": "code",
   "execution_count": 63,
   "id": "1384d3df-0f5e-435c-a169-e2c1f2e0187b",
   "metadata": {},
   "outputs": [
    {
     "data": {
      "text/plain": [
       "list"
      ]
     },
     "execution_count": 63,
     "metadata": {},
     "output_type": "execute_result"
    }
   ],
   "source": [
    "type(l1)"
   ]
  },
  {
   "cell_type": "code",
   "execution_count": 65,
   "id": "5a1f2a6e-7c42-42e3-94a3-375220e967a9",
   "metadata": {},
   "outputs": [
    {
     "data": {
      "text/plain": [
       "1"
      ]
     },
     "execution_count": 65,
     "metadata": {},
     "output_type": "execute_result"
    }
   ],
   "source": [
    "t1.count(4)"
   ]
  },
  {
   "cell_type": "code",
   "execution_count": 67,
   "id": "4c937d5b-1af6-4a25-a336-4efe54c2376d",
   "metadata": {},
   "outputs": [
    {
     "data": {
      "text/plain": [
       "2"
      ]
     },
     "execution_count": 67,
     "metadata": {},
     "output_type": "execute_result"
    }
   ],
   "source": [
    "t1.count(8)"
   ]
  },
  {
   "cell_type": "code",
   "execution_count": 69,
   "id": "c4329d15-5394-407b-8227-239ba7c7371a",
   "metadata": {},
   "outputs": [
    {
     "data": {
      "text/plain": [
       "4"
      ]
     },
     "execution_count": 69,
     "metadata": {},
     "output_type": "execute_result"
    }
   ],
   "source": [
    "t1.index(8)"
   ]
  },
  {
   "cell_type": "code",
   "execution_count": 71,
   "id": "bc1175ad-60d1-4bc4-acba-c63bb46826c2",
   "metadata": {},
   "outputs": [],
   "source": [
    "s1={1,2,3,4,5}"
   ]
  },
  {
   "cell_type": "code",
   "execution_count": 73,
   "id": "9e5720cb-c9c2-4133-988d-2f80eb9265a8",
   "metadata": {},
   "outputs": [
    {
     "data": {
      "text/plain": [
       "set"
      ]
     },
     "execution_count": 73,
     "metadata": {},
     "output_type": "execute_result"
    }
   ],
   "source": [
    "type(s1)"
   ]
  },
  {
   "cell_type": "code",
   "execution_count": 75,
   "id": "ae1e294e-fe3a-468b-9ac8-1cbd6dd56bc1",
   "metadata": {},
   "outputs": [],
   "source": [
    "s1.add(6)"
   ]
  },
  {
   "cell_type": "code",
   "execution_count": 77,
   "id": "066500e4-ad6a-4da6-94e5-7d89faf1ea4b",
   "metadata": {},
   "outputs": [
    {
     "data": {
      "text/plain": [
       "{1, 2, 3, 4, 5, 6}"
      ]
     },
     "execution_count": 77,
     "metadata": {},
     "output_type": "execute_result"
    }
   ],
   "source": [
    "s1"
   ]
  },
  {
   "cell_type": "code",
   "execution_count": 79,
   "id": "1034df89-4b66-48ae-95cb-4c2eec6f8474",
   "metadata": {},
   "outputs": [],
   "source": [
    "s1.update([7,8,9])"
   ]
  },
  {
   "cell_type": "code",
   "execution_count": 81,
   "id": "fcefe2b5-5658-4d11-bd60-1a47b5b4f978",
   "metadata": {},
   "outputs": [
    {
     "data": {
      "text/plain": [
       "{1, 2, 3, 4, 5, 6, 7, 8, 9}"
      ]
     },
     "execution_count": 81,
     "metadata": {},
     "output_type": "execute_result"
    }
   ],
   "source": [
    "s1"
   ]
  },
  {
   "cell_type": "code",
   "execution_count": 83,
   "id": "dd5d95d7-a9fa-4e47-8892-ae6ce018a79b",
   "metadata": {},
   "outputs": [],
   "source": [
    "s1.update({10,11})"
   ]
  },
  {
   "cell_type": "code",
   "execution_count": 85,
   "id": "0c5b4315-9d89-4d56-9d25-140d6393fc7e",
   "metadata": {},
   "outputs": [
    {
     "data": {
      "text/plain": [
       "{1, 2, 3, 4, 5, 6, 7, 8, 9, 10, 11}"
      ]
     },
     "execution_count": 85,
     "metadata": {},
     "output_type": "execute_result"
    }
   ],
   "source": [
    "s1"
   ]
  },
  {
   "cell_type": "code",
   "execution_count": 89,
   "id": "b661c565-3341-4635-a8b1-8da137aae875",
   "metadata": {},
   "outputs": [
    {
     "data": {
      "text/plain": [
       "1"
      ]
     },
     "execution_count": 89,
     "metadata": {},
     "output_type": "execute_result"
    }
   ],
   "source": [
    "s1.pop()"
   ]
  },
  {
   "cell_type": "code",
   "execution_count": 92,
   "id": "4bb80278-6ff6-4ad5-bb15-7f8b5b04d19a",
   "metadata": {},
   "outputs": [
    {
     "data": {
      "text/plain": [
       "{2, 3, 4, 5, 6, 7, 8, 9, 10, 11}"
      ]
     },
     "execution_count": 92,
     "metadata": {},
     "output_type": "execute_result"
    }
   ],
   "source": [
    "s1"
   ]
  },
  {
   "cell_type": "code",
   "execution_count": 94,
   "id": "22e4b583-5ae8-4a0f-ad11-17118e921b83",
   "metadata": {},
   "outputs": [
    {
     "data": {
      "text/plain": [
       "2"
      ]
     },
     "execution_count": 94,
     "metadata": {},
     "output_type": "execute_result"
    }
   ],
   "source": [
    "s1.pop()"
   ]
  },
  {
   "cell_type": "code",
   "execution_count": 96,
   "id": "3e38fc14-747d-46fd-80e9-11886153aafa",
   "metadata": {},
   "outputs": [
    {
     "data": {
      "text/plain": [
       "3"
      ]
     },
     "execution_count": 96,
     "metadata": {},
     "output_type": "execute_result"
    }
   ],
   "source": [
    "s1.pop()"
   ]
  },
  {
   "cell_type": "code",
   "execution_count": 98,
   "id": "1a81c8ae-05a8-4af2-aad9-349078ab0b5e",
   "metadata": {},
   "outputs": [
    {
     "data": {
      "text/plain": [
       "4"
      ]
     },
     "execution_count": 98,
     "metadata": {},
     "output_type": "execute_result"
    }
   ],
   "source": [
    "s1.pop()"
   ]
  },
  {
   "cell_type": "code",
   "execution_count": 100,
   "id": "5f3129ed-e08e-4139-8ed8-cf2dbe95cd58",
   "metadata": {},
   "outputs": [
    {
     "data": {
      "text/plain": [
       "5"
      ]
     },
     "execution_count": 100,
     "metadata": {},
     "output_type": "execute_result"
    }
   ],
   "source": [
    "s1.pop()"
   ]
  },
  {
   "cell_type": "code",
   "execution_count": 102,
   "id": "374fd7bd-d377-439a-b9e9-0c1856deefd1",
   "metadata": {},
   "outputs": [
    {
     "data": {
      "text/plain": [
       "{6, 7, 8, 9, 10, 11}"
      ]
     },
     "execution_count": 102,
     "metadata": {},
     "output_type": "execute_result"
    }
   ],
   "source": [
    "s1"
   ]
  },
  {
   "cell_type": "code",
   "execution_count": 104,
   "id": "76890748-5189-49f3-ba4d-726041fc271a",
   "metadata": {},
   "outputs": [
    {
     "data": {
      "text/plain": [
       "6"
      ]
     },
     "execution_count": 104,
     "metadata": {},
     "output_type": "execute_result"
    }
   ],
   "source": [
    "s1.pop()"
   ]
  },
  {
   "cell_type": "code",
   "execution_count": 110,
   "id": "a51646fc-ea23-4028-9618-003487732be1",
   "metadata": {},
   "outputs": [],
   "source": [
    "s1.update(('darsh','ds'))"
   ]
  },
  {
   "cell_type": "code",
   "execution_count": 112,
   "id": "41a63a80-b9a3-4cba-a744-a5d059dc8438",
   "metadata": {},
   "outputs": [
    {
     "data": {
      "text/plain": [
       "{10, 11, 7, 8, 9, 'a', 'd', 'darsh', 'ds', 'h', 'r', 's'}"
      ]
     },
     "execution_count": 112,
     "metadata": {},
     "output_type": "execute_result"
    }
   ],
   "source": [
    "s1"
   ]
  },
  {
   "cell_type": "code",
   "execution_count": 114,
   "id": "382c04a7-c394-4033-a81a-c644d63669ee",
   "metadata": {},
   "outputs": [
    {
     "data": {
      "text/plain": [
       "7"
      ]
     },
     "execution_count": 114,
     "metadata": {},
     "output_type": "execute_result"
    }
   ],
   "source": [
    "s1.pop()"
   ]
  },
  {
   "cell_type": "code",
   "execution_count": 116,
   "id": "c2fe1db4-0f79-4776-99ff-d85736a2307d",
   "metadata": {},
   "outputs": [
    {
     "data": {
      "text/plain": [
       "{10, 11, 8, 9, 'a', 'd', 'darsh', 'ds', 'h', 'r', 's'}"
      ]
     },
     "execution_count": 116,
     "metadata": {},
     "output_type": "execute_result"
    }
   ],
   "source": [
    "s1"
   ]
  },
  {
   "cell_type": "code",
   "execution_count": 118,
   "id": "727d0c54-8d0a-4513-9dd2-78c01ab7cda2",
   "metadata": {},
   "outputs": [
    {
     "data": {
      "text/plain": [
       "8"
      ]
     },
     "execution_count": 118,
     "metadata": {},
     "output_type": "execute_result"
    }
   ],
   "source": [
    "s1.pop()"
   ]
  },
  {
   "cell_type": "code",
   "execution_count": 122,
   "id": "3d8da3a4-089d-4b39-bcd4-46166cb90904",
   "metadata": {},
   "outputs": [],
   "source": [
    "s1.remove('a')"
   ]
  },
  {
   "cell_type": "markdown",
   "id": "161aca83-0c41-4c1c-aa3c-2d4b8e4a35c6",
   "metadata": {},
   "source": [
    "s1 "
   ]
  },
  {
   "cell_type": "code",
   "execution_count": 125,
   "id": "da3224a6-d14f-440d-9c52-c6a5c46201dd",
   "metadata": {},
   "outputs": [
    {
     "data": {
      "text/plain": [
       "{10, 11, 9, 'd', 'darsh', 'ds', 'h', 'r', 's'}"
      ]
     },
     "execution_count": 125,
     "metadata": {},
     "output_type": "execute_result"
    }
   ],
   "source": [
    "s1"
   ]
  },
  {
   "cell_type": "code",
   "execution_count": 127,
   "id": "649954bd-b4bd-457e-9960-1c441617072f",
   "metadata": {},
   "outputs": [],
   "source": [
    "s1.discard('z')"
   ]
  },
  {
   "cell_type": "code",
   "execution_count": 129,
   "id": "1b98e04b-576c-468e-a917-aa43d8267b8b",
   "metadata": {},
   "outputs": [
    {
     "data": {
      "text/plain": [
       "{10, 11, 9, 'd', 'darsh', 'ds', 'h', 'r', 's'}"
      ]
     },
     "execution_count": 129,
     "metadata": {},
     "output_type": "execute_result"
    }
   ],
   "source": [
    "s1"
   ]
  },
  {
   "cell_type": "code",
   "execution_count": 131,
   "id": "274cd3bd-1a92-4ce2-bc37-1288802eb1e4",
   "metadata": {},
   "outputs": [],
   "source": [
    "s2={1,2,3,4,5,6,'d','h','s'}"
   ]
  },
  {
   "cell_type": "code",
   "execution_count": 133,
   "id": "41c520ec-bb6b-4d30-955c-9e6e592a3272",
   "metadata": {},
   "outputs": [
    {
     "data": {
      "text/plain": [
       "{1, 2, 3, 4, 5, 6, 'd', 'h', 's'}"
      ]
     },
     "execution_count": 133,
     "metadata": {},
     "output_type": "execute_result"
    }
   ],
   "source": [
    "s2"
   ]
  },
  {
   "cell_type": "code",
   "execution_count": 135,
   "id": "5b32a566-cdb8-4c15-8f17-b2478818544a",
   "metadata": {},
   "outputs": [
    {
     "data": {
      "text/plain": [
       "{1, 10, 11, 2, 3, 4, 5, 6, 9, 'd', 'darsh', 'ds', 'h', 'r', 's'}"
      ]
     },
     "execution_count": 135,
     "metadata": {},
     "output_type": "execute_result"
    }
   ],
   "source": [
    "s2.union(s1)"
   ]
  },
  {
   "cell_type": "code",
   "execution_count": 137,
   "id": "8f4cff00-10f5-409c-afb4-6c650765127c",
   "metadata": {},
   "outputs": [
    {
     "data": {
      "text/plain": [
       "{'d', 'h', 's'}"
      ]
     },
     "execution_count": 137,
     "metadata": {},
     "output_type": "execute_result"
    }
   ],
   "source": [
    "s2.intersection(s1)"
   ]
  },
  {
   "cell_type": "code",
   "execution_count": 141,
   "id": "06b0bb55-dbae-4a08-886f-259b5c918baa",
   "metadata": {},
   "outputs": [
    {
     "data": {
      "text/plain": [
       "{1, 2, 3, 4, 5, 6}"
      ]
     },
     "execution_count": 141,
     "metadata": {},
     "output_type": "execute_result"
    }
   ],
   "source": [
    "s2.difference(s1)"
   ]
  },
  {
   "cell_type": "code",
   "execution_count": 143,
   "id": "20d69099-14eb-49f5-bc0a-cc9eb06ea6cf",
   "metadata": {},
   "outputs": [
    {
     "data": {
      "text/plain": [
       "{'d', 'h', 's'}"
      ]
     },
     "execution_count": 143,
     "metadata": {},
     "output_type": "execute_result"
    }
   ],
   "source": [
    "s1.intersection(s2)"
   ]
  },
  {
   "cell_type": "code",
   "execution_count": 145,
   "id": "8ea9f07a-6a7b-4175-93ed-749d0cb8b88c",
   "metadata": {},
   "outputs": [
    {
     "data": {
      "text/plain": [
       "{10, 11, 9, 'darsh', 'ds', 'r'}"
      ]
     },
     "execution_count": 145,
     "metadata": {},
     "output_type": "execute_result"
    }
   ],
   "source": [
    "s1.difference(s2)"
   ]
  },
  {
   "cell_type": "code",
   "execution_count": 147,
   "id": "f2b5f96c-f16a-422c-a476-aa71ca01c795",
   "metadata": {},
   "outputs": [
    {
     "data": {
      "text/plain": [
       "{1, 10, 11, 2, 3, 4, 5, 6, 9, 'darsh', 'ds', 'r'}"
      ]
     },
     "execution_count": 147,
     "metadata": {},
     "output_type": "execute_result"
    }
   ],
   "source": [
    "s1.symmetric_difference(s2)"
   ]
  },
  {
   "cell_type": "code",
   "execution_count": 149,
   "id": "bba8e6af-8b00-4137-83f9-89eae6be010c",
   "metadata": {},
   "outputs": [
    {
     "data": {
      "text/plain": [
       "False"
      ]
     },
     "execution_count": 149,
     "metadata": {},
     "output_type": "execute_result"
    }
   ],
   "source": [
    "s1.issuperset(s2)"
   ]
  },
  {
   "cell_type": "code",
   "execution_count": 151,
   "id": "d4b21f71-07f1-4cec-8362-7555e4b3b8bc",
   "metadata": {},
   "outputs": [
    {
     "data": {
      "text/plain": [
       "False"
      ]
     },
     "execution_count": 151,
     "metadata": {},
     "output_type": "execute_result"
    }
   ],
   "source": [
    "s2.issuperset(s1)"
   ]
  },
  {
   "cell_type": "code",
   "execution_count": 153,
   "id": "bb583b80-cbc7-4613-9226-1619c2c1893c",
   "metadata": {},
   "outputs": [
    {
     "data": {
      "text/plain": [
       "False"
      ]
     },
     "execution_count": 153,
     "metadata": {},
     "output_type": "execute_result"
    }
   ],
   "source": [
    "s1.issubset(s2)"
   ]
  },
  {
   "cell_type": "markdown",
   "id": "e0237e1a-879f-4441-bb49-e331f531aef6",
   "metadata": {},
   "source": [
    "###### s2.issubset(s1)"
   ]
  },
  {
   "cell_type": "code",
   "execution_count": 159,
   "id": "4d026f9d-1dfd-4310-9171-21f653b5328d",
   "metadata": {},
   "outputs": [],
   "source": [
    "s3={'darsh'}"
   ]
  },
  {
   "cell_type": "code",
   "execution_count": 161,
   "id": "d3d4223f-1631-40fd-99ff-81d3b4fab891",
   "metadata": {},
   "outputs": [
    {
     "data": {
      "text/plain": [
       "True"
      ]
     },
     "execution_count": 161,
     "metadata": {},
     "output_type": "execute_result"
    }
   ],
   "source": [
    "s3.issubset(s1)"
   ]
  },
  {
   "cell_type": "code",
   "execution_count": 163,
   "id": "e8df73e0-cef3-4036-82e2-5934fb7de9af",
   "metadata": {},
   "outputs": [
    {
     "data": {
      "text/plain": [
       "{10, 11, 9, 'd', 'darsh', 'ds', 'h', 'r', 's'}"
      ]
     },
     "execution_count": 163,
     "metadata": {},
     "output_type": "execute_result"
    }
   ],
   "source": [
    "s1"
   ]
  },
  {
   "cell_type": "code",
   "execution_count": 165,
   "id": "efe0424b-a36a-44ea-8a6d-9d27985c9603",
   "metadata": {},
   "outputs": [
    {
     "data": {
      "text/plain": [
       "True"
      ]
     },
     "execution_count": 165,
     "metadata": {},
     "output_type": "execute_result"
    }
   ],
   "source": [
    "s1.issuperset(s3)"
   ]
  },
  {
   "cell_type": "code",
   "execution_count": 167,
   "id": "eadc7a3b-0fb3-4da3-b4d8-3fbd386fe7d7",
   "metadata": {},
   "outputs": [
    {
     "data": {
      "text/plain": [
       "False"
      ]
     },
     "execution_count": 167,
     "metadata": {},
     "output_type": "execute_result"
    }
   ],
   "source": [
    "s1.isdisjoint(s2)"
   ]
  },
  {
   "cell_type": "code",
   "execution_count": 169,
   "id": "ae7b39f2-b4c9-42a0-9511-4683b7613134",
   "metadata": {},
   "outputs": [
    {
     "data": {
      "text/plain": [
       "False"
      ]
     },
     "execution_count": 169,
     "metadata": {},
     "output_type": "execute_result"
    }
   ],
   "source": [
    "s2.isdisjoint(s1)"
   ]
  },
  {
   "cell_type": "code",
   "execution_count": 171,
   "id": "e2dc9d52-fe31-4553-af2b-ec81a98f2205",
   "metadata": {},
   "outputs": [],
   "source": [
    "s4={'devesh'}"
   ]
  },
  {
   "cell_type": "code",
   "execution_count": 173,
   "id": "6e297b6a-ca78-4363-957c-8800fc456bc6",
   "metadata": {},
   "outputs": [
    {
     "data": {
      "text/plain": [
       "True"
      ]
     },
     "execution_count": 173,
     "metadata": {},
     "output_type": "execute_result"
    }
   ],
   "source": [
    "s4.isdisjoint(s3)"
   ]
  },
  {
   "cell_type": "code",
   "execution_count": 175,
   "id": "d48f2c51-5aff-417a-9be3-d5bb40ba7a6a",
   "metadata": {},
   "outputs": [],
   "source": [
    "dict1={'id':1,'name':'devesh','class':'1st'}"
   ]
  },
  {
   "cell_type": "code",
   "execution_count": 179,
   "id": "2191caee-3eb2-4ee8-a7e2-3385bfc1d640",
   "metadata": {},
   "outputs": [
    {
     "data": {
      "text/plain": [
       "dict_keys(['id', 'name', 'class'])"
      ]
     },
     "execution_count": 179,
     "metadata": {},
     "output_type": "execute_result"
    }
   ],
   "source": [
    "dict1.keys()"
   ]
  },
  {
   "cell_type": "code",
   "execution_count": 181,
   "id": "4b063aa5-e02f-41a6-84c8-88928f342a30",
   "metadata": {},
   "outputs": [
    {
     "data": {
      "text/plain": [
       "dict_values([1, 'devesh', '1st'])"
      ]
     },
     "execution_count": 181,
     "metadata": {},
     "output_type": "execute_result"
    }
   ],
   "source": [
    "dict1.values()"
   ]
  },
  {
   "cell_type": "code",
   "execution_count": 183,
   "id": "94b72aa2-b934-4c62-8843-5996774e2654",
   "metadata": {},
   "outputs": [
    {
     "data": {
      "text/plain": [
       "dict_items([('id', 1), ('name', 'devesh'), ('class', '1st')])"
      ]
     },
     "execution_count": 183,
     "metadata": {},
     "output_type": "execute_result"
    }
   ],
   "source": [
    "dict1.items()"
   ]
  },
  {
   "cell_type": "code",
   "execution_count": 189,
   "id": "fb1e1524-5261-4899-b841-e51e0b5afc83",
   "metadata": {},
   "outputs": [
    {
     "data": {
      "text/plain": [
       "1"
      ]
     },
     "execution_count": 189,
     "metadata": {},
     "output_type": "execute_result"
    }
   ],
   "source": [
    "dict1.get('id')"
   ]
  },
  {
   "cell_type": "code",
   "execution_count": 191,
   "id": "575bd7d1-7334-44da-871a-d3a8adc64e70",
   "metadata": {},
   "outputs": [
    {
     "data": {
      "text/plain": [
       "'devesh'"
      ]
     },
     "execution_count": 191,
     "metadata": {},
     "output_type": "execute_result"
    }
   ],
   "source": [
    "dict1.get('name')"
   ]
  },
  {
   "cell_type": "code",
   "execution_count": 193,
   "id": "25864452-d82d-40a6-8ec7-f2715c3d495f",
   "metadata": {},
   "outputs": [],
   "source": [
    "dict1['school']='GJS'"
   ]
  },
  {
   "cell_type": "code",
   "execution_count": 195,
   "id": "e6b70c14-4c05-4a8e-9caa-64dc7f5a8a9c",
   "metadata": {},
   "outputs": [
    {
     "data": {
      "text/plain": [
       "{'id': 1, 'name': 'devesh', 'class': '1st', 'school': 'GJS'}"
      ]
     },
     "execution_count": 195,
     "metadata": {},
     "output_type": "execute_result"
    }
   ],
   "source": [
    "dict1"
   ]
  },
  {
   "cell_type": "code",
   "execution_count": 199,
   "id": "9f429a8d-002e-4d3c-9a39-3921c7364d61",
   "metadata": {},
   "outputs": [],
   "source": [
    "dict1.update({'adhar':334523565})"
   ]
  },
  {
   "cell_type": "code",
   "execution_count": 201,
   "id": "200f9f9c-95b7-4e98-934d-6f6b1569aa05",
   "metadata": {},
   "outputs": [
    {
     "data": {
      "text/plain": [
       "{'id': 1,\n",
       " 'name': 'devesh',\n",
       " 'class': '1st',\n",
       " 'school': 'GJS',\n",
       " 'adhar': 334523565}"
      ]
     },
     "execution_count": 201,
     "metadata": {},
     "output_type": "execute_result"
    }
   ],
   "source": [
    "dict1"
   ]
  },
  {
   "cell_type": "code",
   "execution_count": 203,
   "id": "2d5674c6-dbaf-4776-9924-429e2c61c665",
   "metadata": {},
   "outputs": [
    {
     "data": {
      "text/plain": [
       "334523565"
      ]
     },
     "execution_count": 203,
     "metadata": {},
     "output_type": "execute_result"
    }
   ],
   "source": [
    "dict1.pop('adhar')"
   ]
  },
  {
   "cell_type": "code",
   "execution_count": 207,
   "id": "4ad2c390-4fb9-42db-bd89-4301fe321f60",
   "metadata": {},
   "outputs": [
    {
     "data": {
      "text/plain": [
       "('school', 'GJS')"
      ]
     },
     "execution_count": 207,
     "metadata": {},
     "output_type": "execute_result"
    }
   ],
   "source": [
    "dict1.popitem()"
   ]
  },
  {
   "cell_type": "code",
   "execution_count": 215,
   "id": "3c86dc25-7e8f-4092-88e5-a6c8de27fb4a",
   "metadata": {},
   "outputs": [],
   "source": [
    "dict2={}"
   ]
  },
  {
   "cell_type": "code",
   "execution_count": 209,
   "id": "443a598d-edd5-4719-b05a-6c113c657352",
   "metadata": {},
   "outputs": [],
   "source": [
    "k=(1,2,3,4)"
   ]
  },
  {
   "cell_type": "code",
   "execution_count": 219,
   "id": "5584342c-c3bb-4bda-9310-11de89a7d79f",
   "metadata": {},
   "outputs": [
    {
     "data": {
      "text/plain": [
       "{1: 0, 2: 0, 3: 0, 4: 0}"
      ]
     },
     "execution_count": 219,
     "metadata": {},
     "output_type": "execute_result"
    }
   ],
   "source": [
    "dict2.fromkeys(k,0)"
   ]
  },
  {
   "cell_type": "code",
   "execution_count": 225,
   "id": "87529b9b-c535-4395-886f-5c429b4b64ac",
   "metadata": {},
   "outputs": [],
   "source": [
    "dict2.setdefault(1)"
   ]
  },
  {
   "cell_type": "code",
   "execution_count": 227,
   "id": "d1023e47-a61f-4bfb-b792-53f0a7e0676a",
   "metadata": {},
   "outputs": [
    {
     "data": {
      "text/plain": [
       "{1: None}"
      ]
     },
     "execution_count": 227,
     "metadata": {},
     "output_type": "execute_result"
    }
   ],
   "source": [
    "dict2"
   ]
  },
  {
   "cell_type": "code",
   "execution_count": 233,
   "id": "f8a04cbd-e177-487d-83c2-e3ccd8d85925",
   "metadata": {},
   "outputs": [
    {
     "data": {
      "text/plain": [
       "1"
      ]
     },
     "execution_count": 233,
     "metadata": {},
     "output_type": "execute_result"
    }
   ],
   "source": [
    "dict1.setdefault('id',2)"
   ]
  },
  {
   "cell_type": "code",
   "execution_count": 235,
   "id": "62c1e63d-436c-4ba0-adb6-48e160daa33e",
   "metadata": {},
   "outputs": [
    {
     "data": {
      "text/plain": [
       "{'id': 1, 'name': 'devesh', 'class': '1st'}"
      ]
     },
     "execution_count": 235,
     "metadata": {},
     "output_type": "execute_result"
    }
   ],
   "source": [
    "dict1"
   ]
  },
  {
   "cell_type": "code",
   "execution_count": 237,
   "id": "6724b9bc-60c3-4cb8-9279-a953e608fcf7",
   "metadata": {},
   "outputs": [
    {
     "data": {
      "text/plain": [
       "454545"
      ]
     },
     "execution_count": 237,
     "metadata": {},
     "output_type": "execute_result"
    }
   ],
   "source": [
    "dict1.setdefault('adhar',454545)"
   ]
  },
  {
   "cell_type": "code",
   "execution_count": 239,
   "id": "dd638732-f109-4c91-a1a3-2e0151342539",
   "metadata": {},
   "outputs": [
    {
     "data": {
      "text/plain": [
       "{'id': 1, 'name': 'devesh', 'class': '1st', 'adhar': 454545}"
      ]
     },
     "execution_count": 239,
     "metadata": {},
     "output_type": "execute_result"
    }
   ],
   "source": [
    "dict1"
   ]
  },
  {
   "cell_type": "code",
   "execution_count": 241,
   "id": "bafaf721-375c-45f5-a3b3-d4d93e65656c",
   "metadata": {},
   "outputs": [],
   "source": [
    "str1='hi'"
   ]
  },
  {
   "cell_type": "code",
   "execution_count": 243,
   "id": "1d43958d-4dbb-4b56-9ed0-4a2096c64680",
   "metadata": {},
   "outputs": [
    {
     "data": {
      "text/plain": [
       "'hi'"
      ]
     },
     "execution_count": 243,
     "metadata": {},
     "output_type": "execute_result"
    }
   ],
   "source": [
    "str1"
   ]
  },
  {
   "cell_type": "code",
   "execution_count": 245,
   "id": "bedfd70c-f211-4d69-8570-833a07851bc7",
   "metadata": {},
   "outputs": [],
   "source": [
    "str2=\"hello\""
   ]
  },
  {
   "cell_type": "code",
   "execution_count": 247,
   "id": "426159de-6313-416d-9550-d9ed46b42daa",
   "metadata": {},
   "outputs": [
    {
     "data": {
      "text/plain": [
       "'hello'"
      ]
     },
     "execution_count": 247,
     "metadata": {},
     "output_type": "execute_result"
    }
   ],
   "source": [
    "str2"
   ]
  },
  {
   "cell_type": "code",
   "execution_count": 251,
   "id": "cbc34c7b-88a6-44a3-a88c-7d0a2f7fe1ec",
   "metadata": {},
   "outputs": [],
   "source": [
    "str3=\"I'am\""
   ]
  },
  {
   "cell_type": "code",
   "execution_count": 253,
   "id": "d2f43164-95f9-49be-b3cf-49afc0c60f54",
   "metadata": {},
   "outputs": [
    {
     "data": {
      "text/plain": [
       "\"I'am\""
      ]
     },
     "execution_count": 253,
     "metadata": {},
     "output_type": "execute_result"
    }
   ],
   "source": [
    "str3"
   ]
  },
  {
   "cell_type": "code",
   "execution_count": null,
   "id": "fcd77069-1505-46f0-a442-2a77a861525f",
   "metadata": {},
   "outputs": [],
   "source": [
    "dict1."
   ]
  },
  {
   "cell_type": "code",
   "execution_count": 1,
   "id": "0731404c-9d6e-4745-b19a-b126fbc562c2",
   "metadata": {},
   "outputs": [],
   "source": [
    "str1='devesh is good boy'"
   ]
  },
  {
   "cell_type": "code",
   "execution_count": 3,
   "id": "e175a833-9e14-4438-8473-7bce8fdb9041",
   "metadata": {},
   "outputs": [
    {
     "data": {
      "text/plain": [
       "'devesh is good boy'"
      ]
     },
     "execution_count": 3,
     "metadata": {},
     "output_type": "execute_result"
    }
   ],
   "source": [
    "str1"
   ]
  },
  {
   "cell_type": "code",
   "execution_count": 5,
   "id": "5405da97-5f41-404a-8aa5-fab3811c9cc7",
   "metadata": {},
   "outputs": [
    {
     "data": {
      "text/plain": [
       "'Devesh is good boy'"
      ]
     },
     "execution_count": 5,
     "metadata": {},
     "output_type": "execute_result"
    }
   ],
   "source": [
    "str1.capitalize()"
   ]
  },
  {
   "cell_type": "code",
   "execution_count": 7,
   "id": "fd372b45-63ca-4225-8506-2c92f612542b",
   "metadata": {},
   "outputs": [
    {
     "data": {
      "text/plain": [
       "'DEVESH IS GOOD BOY'"
      ]
     },
     "execution_count": 7,
     "metadata": {},
     "output_type": "execute_result"
    }
   ],
   "source": [
    "str1.upper()"
   ]
  },
  {
   "cell_type": "code",
   "execution_count": 9,
   "id": "5057b1de-de36-45fc-89c6-e85e0f838869",
   "metadata": {},
   "outputs": [
    {
     "data": {
      "text/plain": [
       "'devesh is good boy'"
      ]
     },
     "execution_count": 9,
     "metadata": {},
     "output_type": "execute_result"
    }
   ],
   "source": [
    "str1.lower()"
   ]
  },
  {
   "cell_type": "code",
   "execution_count": 11,
   "id": "986c2551-da32-45c0-a995-a8452dbabbb0",
   "metadata": {},
   "outputs": [
    {
     "data": {
      "text/plain": [
       "'Devesh Is Good Boy'"
      ]
     },
     "execution_count": 11,
     "metadata": {},
     "output_type": "execute_result"
    }
   ],
   "source": [
    "str1.title()"
   ]
  },
  {
   "cell_type": "code",
   "execution_count": 13,
   "id": "28105b19-007e-4abd-a083-4f727076bb76",
   "metadata": {},
   "outputs": [
    {
     "data": {
      "text/plain": [
       "['devesh ', ' good boy']"
      ]
     },
     "execution_count": 13,
     "metadata": {},
     "output_type": "execute_result"
    }
   ],
   "source": [
    "str1.split('is')"
   ]
  },
  {
   "cell_type": "code",
   "execution_count": 17,
   "id": "2e8fa284-42c7-4a7a-903b-00e284b6beab",
   "metadata": {},
   "outputs": [
    {
     "data": {
      "text/plain": [
       "10"
      ]
     },
     "execution_count": 17,
     "metadata": {},
     "output_type": "execute_result"
    }
   ],
   "source": [
    "str1.find('good')"
   ]
  },
  {
   "cell_type": "code",
   "execution_count": 19,
   "id": "5aa83948-6aba-403b-ba37-4dd8b8b3fdd3",
   "metadata": {},
   "outputs": [
    {
     "data": {
      "text/plain": [
       "10"
      ]
     },
     "execution_count": 19,
     "metadata": {},
     "output_type": "execute_result"
    }
   ],
   "source": [
    "str1.index('good')"
   ]
  },
  {
   "cell_type": "code",
   "execution_count": 21,
   "id": "5f2c2e18-337b-440c-a011-e0f81ca9c445",
   "metadata": {},
   "outputs": [
    {
     "data": {
      "text/plain": [
       "3"
      ]
     },
     "execution_count": 21,
     "metadata": {},
     "output_type": "execute_result"
    }
   ],
   "source": [
    "str1.count('o')"
   ]
  },
  {
   "cell_type": "code",
   "execution_count": 23,
   "id": "d0bd861d-800b-455d-b32a-5fddf2694f73",
   "metadata": {},
   "outputs": [
    {
     "data": {
      "text/plain": [
       "True"
      ]
     },
     "execution_count": 23,
     "metadata": {},
     "output_type": "execute_result"
    }
   ],
   "source": [
    "str1.endswith('boy')"
   ]
  },
  {
   "cell_type": "code",
   "execution_count": 25,
   "id": "2d1784e3-209c-4eda-a606-20738dfb9a7c",
   "metadata": {},
   "outputs": [
    {
     "data": {
      "text/plain": [
       "True"
      ]
     },
     "execution_count": 25,
     "metadata": {},
     "output_type": "execute_result"
    }
   ],
   "source": [
    "str1.startswith('devesh')"
   ]
  },
  {
   "cell_type": "code",
   "execution_count": 31,
   "id": "5391bf0a-fe0e-4502-9886-89bc4188e786",
   "metadata": {},
   "outputs": [
    {
     "data": {
      "text/plain": [
       "False"
      ]
     },
     "execution_count": 31,
     "metadata": {},
     "output_type": "execute_result"
    }
   ],
   "source": [
    "str1.isalpha()"
   ]
  },
  {
   "cell_type": "code",
   "execution_count": 33,
   "id": "bef845a7-66e8-4ffb-b635-41709b3e95a3",
   "metadata": {},
   "outputs": [],
   "source": [
    "str2='devesh'"
   ]
  },
  {
   "cell_type": "code",
   "execution_count": 35,
   "id": "47897313-160e-47b0-9c59-102524bc0c20",
   "metadata": {},
   "outputs": [
    {
     "data": {
      "text/plain": [
       "True"
      ]
     },
     "execution_count": 35,
     "metadata": {},
     "output_type": "execute_result"
    }
   ],
   "source": [
    "str2.isalpha()"
   ]
  },
  {
   "cell_type": "code",
   "execution_count": 37,
   "id": "5b2e054e-66a0-4a5b-bb26-19c8e4cf98b3",
   "metadata": {},
   "outputs": [],
   "source": [
    "str3='254654'"
   ]
  },
  {
   "cell_type": "code",
   "execution_count": 39,
   "id": "fd43d021-ee13-492d-9310-d18bdbdb202b",
   "metadata": {},
   "outputs": [
    {
     "data": {
      "text/plain": [
       "True"
      ]
     },
     "execution_count": 39,
     "metadata": {},
     "output_type": "execute_result"
    }
   ],
   "source": [
    "str3.isnumeric()"
   ]
  },
  {
   "cell_type": "code",
   "execution_count": 5,
   "id": "be484219-95b1-4ceb-81a9-7c69ed883ee7",
   "metadata": {},
   "outputs": [],
   "source": [
    "str4='1'"
   ]
  },
  {
   "cell_type": "code",
   "execution_count": 7,
   "id": "95c3148d-740b-4532-986e-7a849f9c9dfa",
   "metadata": {},
   "outputs": [
    {
     "data": {
      "text/plain": [
       "True"
      ]
     },
     "execution_count": 7,
     "metadata": {},
     "output_type": "execute_result"
    }
   ],
   "source": [
    "str4.isalnum()"
   ]
  },
  {
   "cell_type": "code",
   "execution_count": 45,
   "id": "ca074e14-aed8-4294-a7da-daba626fb0d0",
   "metadata": {},
   "outputs": [
    {
     "data": {
      "text/plain": [
       "'darsh is good boy'"
      ]
     },
     "execution_count": 45,
     "metadata": {},
     "output_type": "execute_result"
    }
   ],
   "source": [
    "str1.replace('devesh','darsh')"
   ]
  },
  {
   "cell_type": "code",
   "execution_count": 51,
   "id": "2dd38990-5b63-4f42-9b9e-6bd90cf849d4",
   "metadata": {},
   "outputs": [
    {
     "name": "stdin",
     "output_type": "stream",
     "text": [
      "    devesh   \n"
     ]
    }
   ],
   "source": [
    "sample=input()"
   ]
  },
  {
   "cell_type": "code",
   "execution_count": 53,
   "id": "71ed2bd4-9bbb-47a4-86ba-dd04dd970656",
   "metadata": {},
   "outputs": [
    {
     "data": {
      "text/plain": [
       "'   devesh   '"
      ]
     },
     "execution_count": 53,
     "metadata": {},
     "output_type": "execute_result"
    }
   ],
   "source": [
    "sample"
   ]
  },
  {
   "cell_type": "code",
   "execution_count": 55,
   "id": "75c5cc2f-9540-494e-bfaa-d38a28715751",
   "metadata": {},
   "outputs": [
    {
     "data": {
      "text/plain": [
       "'devesh   '"
      ]
     },
     "execution_count": 55,
     "metadata": {},
     "output_type": "execute_result"
    }
   ],
   "source": [
    "sample.lstrip()"
   ]
  },
  {
   "cell_type": "code",
   "execution_count": 57,
   "id": "d1efdda1-4444-4ce6-b95e-306886975d28",
   "metadata": {},
   "outputs": [
    {
     "data": {
      "text/plain": [
       "'   devesh   '"
      ]
     },
     "execution_count": 57,
     "metadata": {},
     "output_type": "execute_result"
    }
   ],
   "source": [
    "sample"
   ]
  },
  {
   "cell_type": "code",
   "execution_count": 59,
   "id": "3582f57b-d7c9-4dbd-8475-754d8ec0f2db",
   "metadata": {},
   "outputs": [
    {
     "data": {
      "text/plain": [
       "'   devesh'"
      ]
     },
     "execution_count": 59,
     "metadata": {},
     "output_type": "execute_result"
    }
   ],
   "source": [
    "sample.rstrip()"
   ]
  },
  {
   "cell_type": "code",
   "execution_count": 61,
   "id": "50c5fed6-5b46-42cc-b5c0-66964a25b4f4",
   "metadata": {},
   "outputs": [
    {
     "data": {
      "text/plain": [
       "'devesh'"
      ]
     },
     "execution_count": 61,
     "metadata": {},
     "output_type": "execute_result"
    }
   ],
   "source": [
    "sample.strip()"
   ]
  },
  {
   "cell_type": "code",
   "execution_count": 63,
   "id": "edcc2041-c130-45a8-b961-8e8ae5ecf481",
   "metadata": {},
   "outputs": [
    {
     "data": {
      "text/plain": [
       "'   DEVESH   '"
      ]
     },
     "execution_count": 63,
     "metadata": {},
     "output_type": "execute_result"
    }
   ],
   "source": [
    "sample.swapcase()"
   ]
  },
  {
   "cell_type": "code",
   "execution_count": 75,
   "id": "45c69960-7f97-4a12-8807-636753176913",
   "metadata": {},
   "outputs": [],
   "source": [
    "a=20"
   ]
  },
  {
   "cell_type": "code",
   "execution_count": 77,
   "id": "2d75660a-dcba-4b95-9f39-80788a5c577b",
   "metadata": {},
   "outputs": [],
   "source": [
    "b=60"
   ]
  },
  {
   "cell_type": "code",
   "execution_count": 79,
   "id": "4a509491-e776-47a7-82aa-a736591d94a8",
   "metadata": {},
   "outputs": [],
   "source": [
    "c=a+b"
   ]
  },
  {
   "cell_type": "code",
   "execution_count": 81,
   "id": "a716dc2a-a807-4178-bd9d-d4e15f6ec66e",
   "metadata": {},
   "outputs": [
    {
     "data": {
      "text/plain": [
       "'Addition of 20 and 60 is 80'"
      ]
     },
     "execution_count": 81,
     "metadata": {},
     "output_type": "execute_result"
    }
   ],
   "source": [
    "\"Addition of {} and {} is {}\".format(a,b,c)"
   ]
  },
  {
   "cell_type": "code",
   "execution_count": 83,
   "id": "c02d5b9f-537a-45dc-81c4-09db9577994b",
   "metadata": {},
   "outputs": [
    {
     "data": {
      "text/plain": [
       "'Addition of 20 and 60 is 80'"
      ]
     },
     "execution_count": 83,
     "metadata": {},
     "output_type": "execute_result"
    }
   ],
   "source": [
    "f\"Addition of {a} and {b} is {c}\""
   ]
  },
  {
   "cell_type": "code",
   "execution_count": 97,
   "id": "e7ccb632-b5bd-456b-a033-a0c3e80cf165",
   "metadata": {},
   "outputs": [],
   "source": [
    "a='devesh'"
   ]
  },
  {
   "cell_type": "code",
   "execution_count": 99,
   "id": "51604695-6201-418f-87d0-9d1e51635f9e",
   "metadata": {},
   "outputs": [],
   "source": [
    "b='gaikwad'"
   ]
  },
  {
   "cell_type": "code",
   "execution_count": 115,
   "id": "f4dd0c1a-216f-4029-a7f5-a3c20dedd3e1",
   "metadata": {},
   "outputs": [],
   "source": [
    "c=[a,b]"
   ]
  },
  {
   "cell_type": "code",
   "execution_count": 117,
   "id": "21b09aea-fa81-480c-b65b-da4504f6eaf2",
   "metadata": {},
   "outputs": [
    {
     "data": {
      "text/plain": [
       "['devesh', 'gaikwad']"
      ]
     },
     "execution_count": 117,
     "metadata": {},
     "output_type": "execute_result"
    }
   ],
   "source": [
    "c"
   ]
  },
  {
   "cell_type": "code",
   "execution_count": 119,
   "id": "831664cc-8b05-4245-8626-0f9ff989ea70",
   "metadata": {},
   "outputs": [
    {
     "data": {
      "text/plain": [
       "'devesh_gaikwad'"
      ]
     },
     "execution_count": 119,
     "metadata": {},
     "output_type": "execute_result"
    }
   ],
   "source": [
    "'_'.join(c)"
   ]
  },
  {
   "cell_type": "code",
   "execution_count": 121,
   "id": "5473a8ba-9dc8-42b1-934b-b0eccbeffca3",
   "metadata": {},
   "outputs": [],
   "source": [
    "number=15"
   ]
  },
  {
   "cell_type": "code",
   "execution_count": 123,
   "id": "6950f4ab-dcfc-40f8-9e5d-5807f278d9b4",
   "metadata": {},
   "outputs": [
    {
     "data": {
      "text/plain": [
       "int"
      ]
     },
     "execution_count": 123,
     "metadata": {},
     "output_type": "execute_result"
    }
   ],
   "source": [
    "type(number)"
   ]
  },
  {
   "cell_type": "code",
   "execution_count": 125,
   "id": "bbafa088-7f12-4d64-aed1-552795b40fae",
   "metadata": {},
   "outputs": [
    {
     "data": {
      "text/plain": [
       "15.0"
      ]
     },
     "execution_count": 125,
     "metadata": {},
     "output_type": "execute_result"
    }
   ],
   "source": [
    "float(number)"
   ]
  },
  {
   "cell_type": "code",
   "execution_count": 127,
   "id": "367a300b-b134-483c-be7a-abfb098481b4",
   "metadata": {},
   "outputs": [
    {
     "data": {
      "text/plain": [
       "int"
      ]
     },
     "execution_count": 127,
     "metadata": {},
     "output_type": "execute_result"
    }
   ],
   "source": [
    "type(number)"
   ]
  },
  {
   "cell_type": "code",
   "execution_count": 129,
   "id": "4c64d17f-c546-4526-b122-7b72c8a9ce81",
   "metadata": {},
   "outputs": [
    {
     "data": {
      "text/plain": [
       "'15'"
      ]
     },
     "execution_count": 129,
     "metadata": {},
     "output_type": "execute_result"
    }
   ],
   "source": [
    "str(number)"
   ]
  },
  {
   "cell_type": "code",
   "execution_count": 137,
   "id": "d977e645-2b0f-41c9-b836-0c44226b97c6",
   "metadata": {},
   "outputs": [],
   "source": [
    "str1='45.10'"
   ]
  },
  {
   "cell_type": "code",
   "execution_count": 145,
   "id": "27192429-1008-4d4a-b22b-b044b3face3b",
   "metadata": {},
   "outputs": [
    {
     "data": {
      "text/plain": [
       "45"
      ]
     },
     "execution_count": 145,
     "metadata": {},
     "output_type": "execute_result"
    }
   ],
   "source": [
    "int(float(str1))"
   ]
  },
  {
   "cell_type": "code",
   "execution_count": null,
   "id": "069181c9-a298-4824-ad64-6106e140508f",
   "metadata": {},
   "outputs": [],
   "source": []
  }
 ],
 "metadata": {
  "kernelspec": {
   "display_name": "Python 3 (ipykernel)",
   "language": "python",
   "name": "python3"
  },
  "language_info": {
   "codemirror_mode": {
    "name": "ipython",
    "version": 3
   },
   "file_extension": ".py",
   "mimetype": "text/x-python",
   "name": "python",
   "nbconvert_exporter": "python",
   "pygments_lexer": "ipython3",
   "version": "3.11.7"
  }
 },
 "nbformat": 4,
 "nbformat_minor": 5
}
