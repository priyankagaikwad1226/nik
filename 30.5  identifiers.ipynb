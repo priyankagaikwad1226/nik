{
 "cells": [
  {
   "cell_type": "code",
   "execution_count": null,
   "id": "9b595882-17c4-446d-9ef8-46fefd8f1099",
   "metadata": {},
   "outputs": [],
   "source": [
    "a=10"
   ]
  },
  {
   "cell_type": "code",
   "execution_count": 13,
   "id": "103d0f7d-8904-47c0-b731-4cf5fa3bb0ec",
   "metadata": {},
   "outputs": [
    {
     "data": {
      "text/plain": [
       "10"
      ]
     },
     "execution_count": 13,
     "metadata": {},
     "output_type": "execute_result"
    }
   ],
   "source": [
    "a"
   ]
  },
  {
   "cell_type": "code",
   "execution_count": 15,
   "id": "1385ac0e-93f2-440f-859b-4914a03b6e38",
   "metadata": {},
   "outputs": [],
   "source": [
    "EMPCITY = 'PUNE'"
   ]
  },
  {
   "cell_type": "code",
   "execution_count": 17,
   "id": "c2d8ad86-2d17-41c9-903a-0c3f32c475bf",
   "metadata": {},
   "outputs": [
    {
     "data": {
      "text/plain": [
       "'PUNE'"
      ]
     },
     "execution_count": 17,
     "metadata": {},
     "output_type": "execute_result"
    }
   ],
   "source": [
    "EMPCITY\n"
   ]
  },
  {
   "cell_type": "code",
   "execution_count": 21,
   "id": "3a206029-04b4-4461-8ecc-f051dbd18e49",
   "metadata": {},
   "outputs": [
    {
     "data": {
      "text/plain": [
       "'PUNE'"
      ]
     },
     "execution_count": 21,
     "metadata": {},
     "output_type": "execute_result"
    }
   ],
   "source": [
    "EMPCITY\n"
   ]
  },
  {
   "cell_type": "code",
   "execution_count": null,
   "id": "de6de605-4259-4309-812d-92d780dbfd15",
   "metadata": {},
   "outputs": [],
   "source": [
    "C"
   ]
  },
  {
   "cell_type": "code",
   "execution_count": 23,
   "id": "3b22cdef-4054-487e-b976-3ca1033863b7",
   "metadata": {},
   "outputs": [],
   "source": [
    "test='devesh'"
   ]
  },
  {
   "cell_type": "code",
   "execution_count": 25,
   "id": "27ee3f92-678e-4389-82cb-69d50c822d2d",
   "metadata": {},
   "outputs": [
    {
     "data": {
      "text/plain": [
       "'devesh'"
      ]
     },
     "execution_count": 25,
     "metadata": {},
     "output_type": "execute_result"
    }
   ],
   "source": [
    "test"
   ]
  },
  {
   "cell_type": "code",
   "execution_count": 27,
   "id": "d457fe51-628d-4c52-9822-56486da32738",
   "metadata": {},
   "outputs": [
    {
     "name": "stdout",
     "output_type": "stream",
     "text": [
      "devesh\n"
     ]
    }
   ],
   "source": [
    "print(test)"
   ]
  },
  {
   "cell_type": "code",
   "execution_count": 29,
   "id": "300ea1d9-0449-4a1e-b8e5-549c9ba0ae27",
   "metadata": {},
   "outputs": [
    {
     "name": "stdout",
     "output_type": "stream",
     "text": [
      "PUNE\n"
     ]
    }
   ],
   "source": [
    "print(EMPCITY)"
   ]
  },
  {
   "cell_type": "code",
   "execution_count": null,
   "id": "553150ce-d3d8-4259-a43f-b74dd97d882c",
   "metadata": {},
   "outputs": [],
   "source": [
    "B = 10.5"
   ]
  },
  {
   "cell_type": "code",
   "execution_count": 31,
   "id": "b0ebeeac-6c12-4b48-ae1f-9d07323c8881",
   "metadata": {},
   "outputs": [
    {
     "ename": "NameError",
     "evalue": "name 'B' is not defined",
     "output_type": "error",
     "traceback": [
      "\u001b[1;31m---------------------------------------------------------------------------\u001b[0m",
      "\u001b[1;31mNameError\u001b[0m                                 Traceback (most recent call last)",
      "Cell \u001b[1;32mIn[31], line 1\u001b[0m\n\u001b[1;32m----> 1\u001b[0m B\n",
      "\u001b[1;31mNameError\u001b[0m: name 'B' is not defined"
     ]
    }
   ],
   "source": [
    "B"
   ]
  },
  {
   "cell_type": "code",
   "execution_count": null,
   "id": "c78534ba-02e3-442f-93a4-423b2d4d99b2",
   "metadata": {},
   "outputs": [],
   "source": [
    "B"
   ]
  },
  {
   "cell_type": "code",
   "execution_count": 5,
   "id": "3a074a87-8c98-4f73-9cfe-201fa6a7714d",
   "metadata": {},
   "outputs": [
    {
     "data": {
      "text/plain": [
       "dict_keys([1, 2])"
      ]
     },
     "execution_count": 5,
     "metadata": {},
     "output_type": "execute_result"
    }
   ],
   "source": [
    "d={1:'devesh',2:'darsh'}\n",
    "d.keys()"
   ]
  },
  {
   "cell_type": "code",
   "execution_count": null,
   "id": "d594400b-66b9-429c-9a53-29b0f040b2ef",
   "metadata": {},
   "outputs": [],
   "source": []
  },
  {
   "cell_type": "code",
   "execution_count": null,
   "id": "57bf9eab-1d5b-4101-bd0d-2ab08873d3f2",
   "metadata": {},
   "outputs": [],
   "source": []
  }
 ],
 "metadata": {
  "kernelspec": {
   "display_name": "Python 3 (ipykernel)",
   "language": "python",
   "name": "python3"
  },
  "language_info": {
   "codemirror_mode": {
    "name": "ipython",
    "version": 3
   },
   "file_extension": ".py",
   "mimetype": "text/x-python",
   "name": "python",
   "nbconvert_exporter": "python",
   "pygments_lexer": "ipython3",
   "version": "3.11.7"
  }
 },
 "nbformat": 4,
 "nbformat_minor": 5
}
